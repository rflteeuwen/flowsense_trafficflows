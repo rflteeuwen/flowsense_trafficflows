{
 "cells": [
  {
   "metadata": {
    "collapsed": true
   },
   "cell_type": "code",
   "source": [
    "import numpy as np\n",
    "import pandas as pd\n",
    "import geopandas as gpd\n",
    "from shapely import Point, LineString\n",
    "import matplotlib.pyplot as plt\n",
    "import sqlalchemy\n",
    "from zoneinfo import ZoneInfo"
   ],
   "id": "initial_id",
   "outputs": [],
   "execution_count": null
  },
  {
   "metadata": {},
   "cell_type": "markdown",
   "source": "## settings",
   "id": "37aae5a91b23f5b7"
  },
  {
   "metadata": {},
   "cell_type": "code",
   "source": [
    "local_crs = 3006\n",
    "\n",
    "month = 12 # 1-12\n",
    "city_abbr = 'sthlm' # gbg or sthlm\n",
    "\n",
    "write_to_table = True\n",
    "if_exists = 'append' # append or replace"
   ],
   "id": "a3f9e0e9360882a",
   "outputs": [],
   "execution_count": null
  },
  {
   "metadata": {},
   "cell_type": "markdown",
   "source": "## read data",
   "id": "a448196669804dad"
  },
  {
   "metadata": {},
   "cell_type": "code",
   "source": [
    "# read from database\n",
    "url = sqlalchemy.URL.create(\n",
    "    \"postgresql+psycopg\", port=5432,\n",
    "    host=\"host\", database=\"database\", username=\"username\")\n",
    "engine = sqlalchemy.create_engine(url)"
   ],
   "id": "80d7329d939bb705",
   "outputs": [],
   "execution_count": null
  },
  {
   "metadata": {},
   "cell_type": "code",
   "source": "pointtypes_table_name = '{}_point_types_2024'.format(city_abbr)",
   "id": "47902e9fcfd63cb1",
   "outputs": [],
   "execution_count": null
  },
  {
   "metadata": {},
   "cell_type": "code",
   "source": [
    "until_month = 1 if month == 12 else month + 1\n",
    "until_year = 2025 if month == 12 else 2024\n",
    "\n",
    "sql_query = \"\"\"\n",
    "    SELECT device_uid, timestamp_se, x, y, type\n",
    "    FROM extracts.{0}\n",
    "    WHERE\n",
    "        type NOT IN ('stay', 'isolated', 'singular', 'error')\n",
    "        AND (timestamp_se::date >= '{1}-{2:01d}-01' AND timestamp_se::date < '{3}-{4:02d}-01');\n",
    "\"\"\".format(pointtypes_table_name, 2024, month, until_year, until_month)\n",
    "\n",
    "with engine.connect() as conn_semobiledata:\n",
    "    with conn_semobiledata.execute(sqlalchemy.text(sql_query)) as cursor:\n",
    "        traj_points = pd.read_sql(sql_query, con=conn_semobiledata, parse_dates=['timestamp_se'])"
   ],
   "id": "67aac6f036b86f6d",
   "outputs": [],
   "execution_count": null
  },
  {
   "metadata": {},
   "cell_type": "code",
   "source": [
    "traj_points['timestamp_se'] = traj_points['timestamp_se'].dt.tz_convert(ZoneInfo(\"Europe/Stockholm\"))\n",
    "traj_points.sort_values(['device_uid', 'timestamp_se'], ascending=True, inplace=True)"
   ],
   "id": "ba094e0a0b9cdd78",
   "outputs": [],
   "execution_count": null
  },
  {
   "metadata": {},
   "cell_type": "code",
   "source": "len(traj_points)",
   "id": "c8dea0751729ebcb",
   "outputs": [],
   "execution_count": null
  },
  {
   "metadata": {},
   "cell_type": "markdown",
   "source": "## combine points into trajectories",
   "id": "df1302db975af2c4"
  },
  {
   "metadata": {},
   "cell_type": "code",
   "source": [
    "# set thresholds in time, distance, and speed\n",
    "# based on which points are categorized and trajectories are cleaned\n",
    "\n",
    "# also used when defining the point types\n",
    "too_long = 120 # seconds\n",
    "too_close = 100 # meters\n",
    "too_fast = 250 # kilometers per hour\n",
    "too_slow = 3 # kilometers per hour, unused for now\n",
    "\n",
    "# additional thresholds\n",
    "too_far = 1000 # meters"
   ],
   "id": "528d79c1457cc0c8",
   "outputs": [],
   "execution_count": null
  },
  {
   "metadata": {},
   "cell_type": "code",
   "source": [
    "# mark starting points of trajectories\n",
    "traj_points['trajectory_start'] = False\n",
    "traj_points.loc[\n",
    "    traj_points.type.isin(['start', 'slow start']),\n",
    "    'trajectory_start'] = True"
   ],
   "id": "71ace9a408a57ccb",
   "outputs": [],
   "execution_count": null
  },
  {
   "metadata": {},
   "cell_type": "code",
   "source": [
    "# assign common id to a trajectory, i.e., a set of points starting with a (slow) start\n",
    "# Create a new column for traj_id where there is a trajectory start, and forward fill for the same device_id\n",
    "traj_points['traj_id'] = (traj_points['trajectory_start']).cumsum()\n",
    "traj_points['traj_id'] = traj_points.groupby('device_uid')['traj_id'].ffill()\n",
    "traj_points['traj_id'] = traj_points['traj_id'].fillna(0).astype(int)"
   ],
   "id": "91234015e4f5195c",
   "outputs": [],
   "execution_count": null
  },
  {
   "metadata": {},
   "cell_type": "markdown",
   "source": "#### iteratively recalculate values after filtering",
   "id": "34a3d8a91893d96e"
  },
  {
   "metadata": {},
   "cell_type": "code",
   "source": [
    "def recalculate_in_out_stats(traj_points, to_group_by):\n",
    "    # recalculate stats to previous and next point\n",
    "    # for example after removing points (errors/jumps/duplicates)\n",
    "\n",
    "    traj_points['dx_in'] = abs(traj_points.groupby(to_group_by)['x'].diff()) # meters\n",
    "    traj_points['dy_in'] = abs(traj_points.groupby(to_group_by)['y'].diff()) # meters\n",
    "    traj_points['dist_in'] = abs(np.sqrt(traj_points['dy_in']**2 + traj_points['dx_in']**2)) # meters\n",
    "    traj_points['dt_in'] = abs(traj_points.groupby(to_group_by)['timestamp_se'].diff().dt.total_seconds()) # seconds\n",
    "    traj_points['speed_in'] = (traj_points['dist_in']/1000) / (traj_points['dt_in']/3600) # kilometers per hour\n",
    "\n",
    "    traj_points['dx_out'] = abs(traj_points.groupby(to_group_by)['x'].diff(periods=-1))\n",
    "    traj_points['dy_out'] = abs(traj_points.groupby(to_group_by)['y'].diff(periods=-1))\n",
    "    traj_points['dist_out'] = abs(np.sqrt(traj_points['dy_out']**2 + traj_points['dx_out']**2))\n",
    "    traj_points['dt_out'] = abs(traj_points.groupby(to_group_by)['timestamp_se'].diff(periods=-1).dt.total_seconds())\n",
    "    traj_points['speed_out'] = (traj_points['dist_out']/1000) / (traj_points['dt_out']/3600)\n",
    "\n",
    "    return traj_points"
   ],
   "id": "ae6c4bb7330330be",
   "outputs": [],
   "execution_count": null
  },
  {
   "metadata": {},
   "cell_type": "code",
   "source": [
    "def recalculate_traj_ids(traj_points, to_group_by):\n",
    "    # reassign a common id to each trajectory,\n",
    "    # taking into account, for example, continuation after short stops\n",
    "    # and fresh starts after jumping\n",
    "\n",
    "    traj_points['traj_id'] = (traj_points['trajectory_start']).cumsum()\n",
    "    traj_points['traj_id'] = traj_points.groupby(to_group_by)['traj_id'].ffill()\n",
    "    traj_points['traj_id'] = traj_points['traj_id'].fillna(0).astype(int)\n",
    "\n",
    "    return traj_points"
   ],
   "id": "afd7cd1934441fcd",
   "outputs": [],
   "execution_count": null
  },
  {
   "metadata": {},
   "cell_type": "markdown",
   "source": "#### link trajectories with only brief pause between",
   "id": "b0f0f8dfd46fe425"
  },
  {
   "metadata": {},
   "cell_type": "code",
   "source": [
    "# in case a trajectory starts within short distance and time from the previous one\n",
    "# we merge those trajectories into one\n",
    "condition_pause = (\n",
    "    traj_points.trajectory_start\n",
    "    & (traj_points.device_uid == traj_points.shift(1).device_uid)\n",
    "    & (traj_points.traj_id != traj_points.traj_id.shift(1))\n",
    "    & (np.sqrt( abs(traj_points.x - traj_points.x.shift(1))**2 + abs(traj_points.y - traj_points.y.shift(1))**2 ) < too_close)\n",
    "    & ((traj_points.timestamp_se - traj_points.timestamp_se.shift(1)).dt.total_seconds() < too_long))\n",
    "\n",
    "traj_points.loc[condition_pause.shift(-1, fill_value=False), 'type'] = 'short stop'\n",
    "traj_points.loc[condition_pause, ['type', 'trajectory_start']] = ['continuation', False]"
   ],
   "id": "a46c3b4b639bfa8b",
   "outputs": [],
   "execution_count": null
  },
  {
   "metadata": {},
   "cell_type": "code",
   "source": "traj_points = recalculate_traj_ids(traj_points, to_group_by='device_uid')",
   "id": "123e50fd31c99680",
   "outputs": [],
   "execution_count": null
  },
  {
   "metadata": {},
   "cell_type": "markdown",
   "source": "#### cleaning trajectories",
   "id": "85c1d25cb205b89b"
  },
  {
   "metadata": {},
   "cell_type": "code",
   "source": [
    "# sometimes there are big jumps in a trajectory\n",
    "# they jump a far distance, very fast, or take a long time\n",
    "# we cut the trajectory into parts where such jumps occur\n",
    "# and re-identify relating stop and start points"
   ],
   "id": "53c2b09847338380",
   "outputs": [],
   "execution_count": null
  },
  {
   "metadata": {},
   "cell_type": "code",
   "source": [
    "# 1. the trajectory jumps after starting\n",
    "#       -> remove the jumpstart and make the next point a starting point\n",
    "\n",
    "def condition_jumpstarts(traj_points):\n",
    "    return (\n",
    "        (\n",
    "            # startpoint\n",
    "            (traj_points.traj_id != traj_points.traj_id.shift(1)) & (traj_points.traj_id == traj_points.traj_id.shift(-1))\n",
    "        )\n",
    "        & (\n",
    "            # jump far\n",
    "            (np.sqrt( abs(traj_points.x - traj_points.x.shift(-1))**2 + abs(traj_points.y - traj_points.y.shift(-1))**2 ) > too_far)\n",
    "            # or fast\n",
    "            | (np.sqrt( abs((traj_points.x - traj_points.x.shift(-1))**2 + abs(traj_points.y - traj_points.y.shift(-1))**2 )) / (abs((traj_points.timestamp_se - traj_points.timestamp_se.shift(-1))).dt.total_seconds()) > too_fast/3.6)\n",
    "            # or long\n",
    "            | (abs((traj_points.timestamp_se - traj_points.timestamp_se.shift(-1))).dt.total_seconds() > too_long )\n",
    "        )\n",
    "    )\n",
    "\n",
    "def remove_jumpstarts(traj_points):\n",
    "    traj_points.loc[condition_jumpstarts(traj_points).shift(1, fill_value=False), ['type', 'trajectory_start']] = ['start after jump', True]\n",
    "    return traj_points[~condition_jumpstarts(traj_points)].copy()"
   ],
   "id": "45a88554d34b45fe",
   "outputs": [],
   "execution_count": null
  },
  {
   "metadata": {},
   "cell_type": "code",
   "source": [
    "# 2. the trajectory jumps back to a point smaller than too_far from the previous\n",
    "#       -> remove jumping point, but keep trajectory as one\n",
    "#       -> (note that if it jumps back to the EXACT same point, we will solve that later with removing subsequent duplicates)\n",
    "\n",
    "def condition_jumpbacks(traj_points):\n",
    "    return (\n",
    "        (\n",
    "            # midpoint\n",
    "            (traj_points.traj_id == traj_points.traj_id.shift(1)) & (traj_points.traj_id == traj_points.traj_id.shift(-1))\n",
    "        )\n",
    "        & (\n",
    "            (\n",
    "                # jump far and then back (to a point nearby within reasonable time)\n",
    "                (((np.sqrt(abs(traj_points.x - traj_points.x.shift(1))**2 + abs(traj_points.y - traj_points.y.shift(1))**2)) > too_far)\n",
    "                & (np.sqrt( abs(traj_points.x.shift(-1) - traj_points.x.shift(1))**2 + abs(traj_points.y.shift(-1) - traj_points.y.shift(1))**2 ) <= too_close)\n",
    "                & ((traj_points.timestamp_se.shift(-1) - traj_points.timestamp_se.shift(1)).dt.total_seconds() < too_long))\n",
    "            )\n",
    "            | (\n",
    "                # or jump fast and then back (to a point nearby within reasonable time)\n",
    "                ( np.sqrt(abs((traj_points.x - traj_points.x.shift(1))**2 + abs(traj_points.y - traj_points.y.shift(1))**2 )) / (abs((traj_points.timestamp_se - traj_points.timestamp_se.shift(1))).dt.total_seconds()) > too_fast/3.6)\n",
    "                & (np.sqrt( abs(traj_points.x.shift(-1) - traj_points.x.shift(1))**2 + abs(traj_points.y.shift(-1) - traj_points.y.shift(1))**2 ) <= too_close)\n",
    "                & ((traj_points.timestamp_se.shift(-1) - traj_points.timestamp_se.shift(1)).dt.total_seconds() < too_long)\n",
    "            )\n",
    "        )\n",
    "    )\n",
    "\n",
    "def remove_jumpbacks(traj_points):\n",
    "    return traj_points.loc[~condition_jumpbacks(traj_points)].copy()"
   ],
   "id": "96706d730955c01f",
   "outputs": [],
   "execution_count": null
  },
  {
   "metadata": {},
   "cell_type": "code",
   "source": [
    "# 3. the trajectory jumps back to a point further than too_far from the previous\n",
    "#       -> keep both points, but split the traj into two by defining a fresh trajectory-start after the jump\n",
    "\n",
    "def condition_jumpaways(traj_points):\n",
    "    return (\n",
    "        (\n",
    "            # midpoint\n",
    "            (traj_points.traj_id == traj_points.traj_id.shift(1)) & (traj_points.traj_id == traj_points.traj_id.shift(-1))\n",
    "        )\n",
    "        & (\n",
    "            (\n",
    "                # jump far and away\n",
    "                ((np.sqrt(abs(traj_points.x - traj_points.x.shift(1))**2 + abs(traj_points.y - traj_points.y.shift(1))**2)) > too_far)\n",
    "                & (\n",
    "                    (np.sqrt(abs(traj_points.x.shift(-1) - traj_points.x.shift(1))**2 + abs(traj_points.y.shift(-1) - traj_points.y.shift(1))**2) > too_close)\n",
    "                    | ((traj_points.timestamp_se.shift(-1) - traj_points.timestamp_se.shift(1)).dt.total_seconds() >= too_long))\n",
    "            )\n",
    "            | (\n",
    "                # or jump fast and away\n",
    "                ( np.sqrt(abs((traj_points.x - traj_points.x.shift(1))**2 + abs(traj_points.y - traj_points.y.shift(1))**2 )) / (abs((traj_points.timestamp_se - traj_points.timestamp_se.shift(1))).dt.total_seconds()) > too_fast/3.6)\n",
    "                & (\n",
    "                    (np.sqrt(abs(traj_points.x.shift(-1) - traj_points.x.shift(1))**2 + abs(traj_points.y.shift(-1) - traj_points.y.shift(1))**2) > too_close)\n",
    "                    | ((traj_points.timestamp_se.shift(-1) - traj_points.timestamp_se.shift(1)).dt.total_seconds() >= too_long))\n",
    "            )\n",
    "            # or jump long\n",
    "            | (abs((traj_points.timestamp_se - traj_points.timestamp_se.shift(1))).dt.total_seconds() > too_long )\n",
    "        )\n",
    "    )\n",
    "\n",
    "def remove_jumpaways(traj_points):\n",
    "    traj_points.loc[condition_jumpaways(traj_points), ['type', 'trajectory_start']] = ['start after jump', True]\n",
    "    return recalculate_traj_ids(traj_points, 'device_uid')"
   ],
   "id": "f2cb77c5052ae30c",
   "outputs": [],
   "execution_count": null
  },
  {
   "metadata": {},
   "cell_type": "code",
   "source": [
    "# 4. the trajectory jumps to a stop\n",
    "#       -> remove the jumpstop and make the previous point a stop before jumping\n",
    "\n",
    "def condition_jumpstops(traj_points):\n",
    "    return (\n",
    "        (\n",
    "            # endpoint\n",
    "            (traj_points.traj_id != traj_points.traj_id.shift(-1)) & (traj_points.traj_id == traj_points.traj_id.shift(1))\n",
    "        )\n",
    "        & (\n",
    "            # jump far\n",
    "            (np.sqrt( abs(traj_points.x - traj_points.x.shift(1))**2 + abs(traj_points.y - traj_points.y.shift(1))**2 ) > too_far)\n",
    "            # or fast\n",
    "            | ( np.sqrt(abs((traj_points.x - traj_points.x.shift(1))**2 + abs(traj_points.y - traj_points.y.shift(1))**2 )) / (abs((traj_points.timestamp_se - traj_points.timestamp_se.shift(1))).dt.total_seconds()) > too_fast/3.6)\n",
    "            # or long\n",
    "            | (abs((traj_points.timestamp_se - traj_points.timestamp_se.shift(1))).dt.total_seconds() > too_long )\n",
    "        )\n",
    "    )\n",
    "\n",
    "def remove_jumpstops(traj_points):\n",
    "    traj_points.loc[condition_jumpstops(traj_points).shift(-1, fill_value=False), 'type'] = 'stop before jump'\n",
    "    return traj_points[~condition_jumpstops(traj_points)].copy()"
   ],
   "id": "b3c2683bd7579167",
   "outputs": [],
   "execution_count": null
  },
  {
   "metadata": {},
   "cell_type": "code",
   "source": [
    "# sometimes two sequential points are identical\n",
    "# for example when we removed an error-point in between\n",
    "# we only want to keep the first point of these duplicates\n",
    "\n",
    "def condition_duplicates(traj_points):\n",
    "    return (\n",
    "        (traj_points.x.shift() == traj_points.x)\n",
    "        & (traj_points.y.shift() == traj_points.y)\n",
    "        & (traj_points['traj_id'].shift() == traj_points['traj_id']))\n",
    "\n",
    "def remove_duplicates(traj_points):\n",
    "    return traj_points.loc[~condition_duplicates(traj_points)].copy()"
   ],
   "id": "d836b544626b307c",
   "outputs": [],
   "execution_count": null
  },
  {
   "metadata": {},
   "cell_type": "code",
   "source": [
    "def clean_trajectories(traj_points):\n",
    "    print('iteratively cleaning trajectories')\n",
    "    n = 1\n",
    "    while True:\n",
    "        print(n)\n",
    "        n = n + 1\n",
    "\n",
    "        traj_points = remove_jumpaways(traj_points)\n",
    "        traj_points = remove_jumpbacks(traj_points)\n",
    "        traj_points = remove_jumpstarts(traj_points)\n",
    "        traj_points = remove_jumpstops(traj_points)\n",
    "        traj_points = remove_duplicates(traj_points)\n",
    "\n",
    "        if (\n",
    "                (len(traj_points[condition_jumpstarts(traj_points)]) == 0)\n",
    "                and (len(traj_points[condition_jumpbacks(traj_points)]) == 0)\n",
    "                and (len(traj_points[condition_jumpaways(traj_points)]) == 0)\n",
    "                and (len(traj_points[condition_jumpstops(traj_points)]) == 0)\n",
    "                and (len(traj_points[condition_duplicates(traj_points)]) == 0)\n",
    "                ):\n",
    "            break\n",
    "\n",
    "    return traj_points"
   ],
   "id": "c725c4b58c19ffe2",
   "outputs": [],
   "execution_count": null
  },
  {
   "metadata": {},
   "cell_type": "code",
   "source": "len(traj_points)",
   "id": "a11f4cc7a859dddf",
   "outputs": [],
   "execution_count": null
  },
  {
   "metadata": {},
   "cell_type": "code",
   "source": [
    "traj_points = clean_trajectories(traj_points)\n",
    "traj_points = recalculate_in_out_stats(traj_points, to_group_by='traj_id')"
   ],
   "id": "cbbe5059fbc7adb7",
   "outputs": [],
   "execution_count": null
  },
  {
   "metadata": {},
   "cell_type": "markdown",
   "source": "#### remove one-point trajectories",
   "id": "1b27a80c41bb60ad"
  },
  {
   "metadata": {},
   "cell_type": "code",
   "source": [
    "# due to cleaning out duplicates and jumps\n",
    "# only one point may remain in some 'trajectories', that are thus no longer trajectories\n",
    "traj_length = traj_points['traj_id'].value_counts()\n",
    "traj_points = traj_points[traj_points['traj_id'].isin(traj_length[traj_length>1].index)]"
   ],
   "id": "4f047b436247c8f7",
   "outputs": [],
   "execution_count": null
  },
  {
   "metadata": {},
   "cell_type": "code",
   "source": "len(traj_points)",
   "id": "422d3f35a9e6cb78",
   "outputs": [],
   "execution_count": null
  },
  {
   "metadata": {},
   "cell_type": "markdown",
   "source": "## create trajectory linestrings",
   "id": "2453ee3c7e8b0af1"
  },
  {
   "metadata": {},
   "cell_type": "markdown",
   "source": "#### turn points into linestrings",
   "id": "92cb37716312d85f"
  },
  {
   "metadata": {},
   "cell_type": "code",
   "source": [
    "traj_lines = traj_points.groupby(['traj_id'])[['device_uid', 'traj_id', 'x', 'y', 'timestamp_se', 'dist_in', 'dist_out', 'speed_in', 'speed_out']].apply(\n",
    "    lambda point: pd.Series({\n",
    "        'geometry': LineString([Point(xy) for xy in zip(point.x, point.y)]),\n",
    "        'n_points': len(point),\n",
    "        'total_dt': (point.timestamp_se.max()-point.timestamp_se.min()).total_seconds(),\n",
    "        'start_timestamp_se': point.timestamp_se.min(),\n",
    "        'end_timestamp_se': point.timestamp_se.max(),\n",
    "        'max_speed': point.speed_in.max(),\n",
    "        'min_speed': point.speed_in.min(),\n",
    "        'stdev_speed': point.speed_in.std()\n",
    "    })\n",
    ")\n",
    "\n",
    "traj_lines = gpd.GeoDataFrame(traj_lines, geometry='geometry', crs=local_crs)\n",
    "\n",
    "traj_lines['total_dist'] = traj_lines.geometry.length\n",
    "traj_lines['avg_speed'] = traj_lines.total_dist / traj_lines.total_dt\n",
    "traj_lines['avg_dist'] = traj_lines.total_dist / (traj_lines.n_points-1)"
   ],
   "id": "c75cd40f2c27e095",
   "outputs": [],
   "execution_count": null
  },
  {
   "metadata": {},
   "cell_type": "code",
   "source": "traj_lines['traj_id'] = traj_lines.index",
   "id": "d8f388cbf72ae457",
   "outputs": [],
   "execution_count": null
  },
  {
   "metadata": {},
   "cell_type": "code",
   "source": "len(traj_lines)",
   "id": "512b55424ad64e1d",
   "outputs": [],
   "execution_count": null
  },
  {
   "metadata": {},
   "cell_type": "markdown",
   "source": "#### select and plot fine-grained trajectories",
   "id": "ca711537f601857"
  },
  {
   "metadata": {},
   "cell_type": "code",
   "source": [
    "min_n = 2\n",
    "max_dist = 1000\n",
    "potential250 = traj_lines[(traj_lines.n_points>=min_n) & (traj_lines.avg_dist<max_dist)]\n",
    "print('trajectories with potential:\\n{} trajectories have {}+ points and the average interval between them is less than {} meters'.format(len(potential250), min_n, max_dist))"
   ],
   "id": "4d89b8d86614e0b7",
   "outputs": [],
   "execution_count": null
  },
  {
   "metadata": {},
   "cell_type": "code",
   "source": [
    "fig, axs = plt.subplots(nrows=1, ncols=1, figsize=(12,12))\n",
    "\n",
    "potential250.plot(ax=axs, color='red', figsize=(20,20), alpha=0.01)\n",
    "\n",
    "plt.axis('off')\n",
    "\n",
    "plt.show()"
   ],
   "id": "fa827ab076e14ebf",
   "outputs": [],
   "execution_count": null
  },
  {
   "metadata": {},
   "cell_type": "markdown",
   "source": "## write trajectories to table",
   "id": "9804009f3d2009d"
  },
  {
   "metadata": {},
   "cell_type": "code",
   "source": [
    "cols_general = ['total_dt', 'total_dist', 'avg_dist', 'min_speed', 'max_speed', 'avg_speed', 'stdev_speed', 'geometry']\n",
    "cols_lines = ['traj_id', 'start_timestamp_se', 'end_timestamp_se', 'n_points'] + cols_general\n",
    "cols_points = ['traj_id', 'timestamp_se', 'type', 'n_points'] + cols_general"
   ],
   "id": "882e76e10774286e",
   "outputs": [],
   "execution_count": null
  },
  {
   "metadata": {},
   "cell_type": "code",
   "source": [
    "# prepare points to write to table with some line attributes added\n",
    "output_points = pd.merge(\n",
    "    traj_points,\n",
    "    traj_lines.reset_index(drop=True),\n",
    "    how='right', on='traj_id')\n",
    "\n",
    "output_points = gpd.GeoDataFrame(\n",
    "    output_points, crs=local_crs,\n",
    "    geometry=gpd.points_from_xy(output_points['x'], output_points['y'])).drop(columns=['x', 'y'])"
   ],
   "id": "e4bc33f427cb1888",
   "outputs": [],
   "execution_count": null
  },
  {
   "metadata": {},
   "cell_type": "code",
   "source": [
    "# write to database\n",
    "if write_to_table:\n",
    "\n",
    "    url_flowsense = sqlalchemy.URL.create(\n",
    "        \"postgresql+psycopg\", port=5432,\n",
    "        host=\"host\", database=\"database\", username=\"username\")\n",
    "    engine_flowsense = sqlalchemy.create_engine(url_flowsense)\n",
    "\n",
    "    traj_lines.reset_index(drop=True)[cols_lines].to_postgis(\n",
    "        name='{}_trajectory_lines_2024'.format(city_abbr),\n",
    "        con=engine_flowsense,\n",
    "        schema='trajectories',\n",
    "        if_exists=if_exists,\n",
    "        index=False)\n",
    "\n",
    "    output_points[cols_points].to_postgis(\n",
    "        name='{}_trajectory_points_2024'.format(city_abbr),\n",
    "        con=engine_flowsense,\n",
    "        schema='trajectories',\n",
    "        if_exists=if_exists,\n",
    "        index=False)"
   ],
   "id": "9c7e9b68d16f2b6e",
   "outputs": [],
   "execution_count": null
  }
 ],
 "metadata": {
  "kernelspec": {
   "display_name": "Python 3",
   "language": "python",
   "name": "python3"
  },
  "language_info": {
   "codemirror_mode": {
    "name": "ipython",
    "version": 2
   },
   "file_extension": ".py",
   "mimetype": "text/x-python",
   "name": "python",
   "nbconvert_exporter": "python",
   "pygments_lexer": "ipython2",
   "version": "2.7.6"
  }
 },
 "nbformat": 4,
 "nbformat_minor": 5
}
