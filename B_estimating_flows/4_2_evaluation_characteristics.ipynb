{
 "cells": [
  {
   "metadata": {
    "collapsed": true,
    "ExecuteTime": {
     "end_time": "2025-08-11T12:19:49.491986Z",
     "start_time": "2025-08-11T12:19:34.391023Z"
    }
   },
   "cell_type": "code",
   "source": [
    "import pandas as pd\n",
    "import geopandas as gpd\n",
    "from shapely import  wkb\n",
    "import sqlalchemy\n",
    "from scipy import stats\n",
    "import matplotlib.pyplot as plt"
   ],
   "id": "dc3f3c11bb1c333e",
   "outputs": [],
   "execution_count": 1
  },
  {
   "metadata": {},
   "cell_type": "markdown",
   "source": "## settings",
   "id": "9b8bd00ce778966f"
  },
  {
   "metadata": {},
   "cell_type": "code",
   "source": [
    "local_crs = 3006\n",
    "\n",
    "plot = True"
   ],
   "id": "33df86c2aeb5643c",
   "outputs": [],
   "execution_count": null
  },
  {
   "metadata": {},
   "cell_type": "markdown",
   "source": "## read flows",
   "id": "a06720c264b25f1b"
  },
  {
   "metadata": {},
   "cell_type": "code",
   "source": [
    "# read from database\n",
    "url = sqlalchemy.URL.create(\n",
    "    \"postgresql+psycopg\", port=5432,\n",
    "    host=\"host\", database=\"database\", username=\"username\")\n",
    "engine = sqlalchemy.create_engine(url)"
   ],
   "id": "2b3d72b566903ffe",
   "outputs": [],
   "execution_count": null
  },
  {
   "metadata": {},
   "cell_type": "code",
   "source": [
    "sql_query_flows_sthlm = \"SELECT * FROM flows.sthlm_flows_2024_random1to11;\"\n",
    "sql_query_flows_gbg = \"SELECT * FROM flows.gbg_flows_2024_random1to2;\"\n",
    "\n",
    "with engine.connect() as conn_flowsense:\n",
    "    with conn_flowsense.execute(sqlalchemy.text(sql_query_flows_sthlm)) as cursor:\n",
    "        df_flows_sthlm = pd.read_sql(sql_query_flows_sthlm, con=conn_flowsense)\n",
    "    with conn_flowsense.execute(sqlalchemy.text(sql_query_flows_gbg)) as cursor:\n",
    "        df_flows_gbg = pd.read_sql(sql_query_flows_gbg, con=conn_flowsense)\n",
    "\n",
    "flows_sthlm = gpd.GeoDataFrame(df_flows_sthlm, geometry=df_flows_sthlm['geometry'].apply(wkb.loads), crs=local_crs)\n",
    "flows_gbg = gpd.GeoDataFrame(df_flows_gbg, geometry=df_flows_gbg['geometry'].apply(wkb.loads), crs=local_crs)"
   ],
   "id": "b60ee19f93460efa",
   "outputs": [],
   "execution_count": null
  },
  {
   "metadata": {},
   "cell_type": "markdown",
   "source": "#### sum flows in both directions per road",
   "id": "fb232fb9f52cf51a"
  },
  {
   "metadata": {},
   "cell_type": "code",
   "source": [
    "def sum_and_renormalize(flows):\n",
    "\n",
    "    # sum relative flow and traj count for edge and its corresponding reverse\n",
    "    for col in flows.columns:\n",
    "        if col.startswith('relflow_'):\n",
    "            flows = pd.merge(\n",
    "                flows.groupby(\"ISA_index\").sum([col, col.replace('relflow', 'trajcount')]),\n",
    "                flows[['ISA_index', 'geometry', 'RLID']],\n",
    "                on='ISA_index',\n",
    "                how='left').drop_duplicates('ISA_index', keep='first').reset_index(drop=True)\n",
    "    flows.set_index('ISA_index', inplace=True)\n",
    "    flows = gpd.GeoDataFrame(flows, geometry=flows.geometry, crs=local_crs)\n",
    "\n",
    "    # renormalize flows now that values are summed\n",
    "    for col in flows.columns:\n",
    "        if col.startswith('relflow_'):\n",
    "            flows[col] = flows[col] / flows[col].max()\n",
    "\n",
    "    return flows"
   ],
   "id": "5b3c6dddf47211a1",
   "outputs": [],
   "execution_count": null
  },
  {
   "metadata": {},
   "cell_type": "code",
   "source": [
    "flows_sthlm = sum_and_renormalize(flows_sthlm)\n",
    "flows_gbg = sum_and_renormalize(flows_gbg)"
   ],
   "id": "b6c7a0fd21a6f804",
   "outputs": [],
   "execution_count": null
  },
  {
   "metadata": {},
   "cell_type": "markdown",
   "source": "## read ground truth data",
   "id": "d06d8a668b10d524"
  },
  {
   "metadata": {},
   "cell_type": "code",
   "source": [
    "sql_query_sthlm_2024 = \"SELECT * FROM ground_truth.flows_cars_sthlm_2024;\"\n",
    "\n",
    "with engine.connect() as conn_flowsense:\n",
    "    with conn_flowsense.execute(sqlalchemy.text(sql_query_sthlm_2024)) as cursor:\n",
    "        df_carflows_sthlm_2024 = pd.read_sql(sql_query_sthlm_2024, con=conn_flowsense)\n",
    "\n",
    "carflows_sthlm_2024 = gpd.GeoDataFrame(df_carflows_sthlm_2024, geometry=df_carflows_sthlm_2024['geometry'].apply(wkb.loads), crs=local_crs)"
   ],
   "id": "7d4f4dadc1e6dfa7",
   "outputs": [],
   "execution_count": null
  },
  {
   "metadata": {},
   "cell_type": "code",
   "source": [
    "sql_query_gbg_local_2023 = \"SELECT * FROM ground_truth.flows_cars_gbg_local_2023;\"\n",
    "\n",
    "with engine.connect() as conn_flowsense:\n",
    "    with conn_flowsense.execute(sqlalchemy.text(sql_query_gbg_local_2023)) as cursor:\n",
    "        df_carflows_gbg_local_2023 = pd.read_sql(sql_query_gbg_local_2023, con=conn_flowsense)\n",
    "\n",
    "carflows_gbg_local_2023 = gpd.GeoDataFrame(df_carflows_gbg_local_2023, geometry=df_carflows_gbg_local_2023['geometry'].apply(wkb.loads), crs=local_crs)"
   ],
   "id": "8cff1e782fdc813",
   "outputs": [],
   "execution_count": null
  },
  {
   "metadata": {},
   "cell_type": "code",
   "source": [
    "sql_query_gbg_highway_2023 = \"SELECT * FROM ground_truth.flows_cars_gbg_highway_2023;\"\n",
    "\n",
    "with engine.connect() as conn_flowsense:\n",
    "    with conn_flowsense.execute(sqlalchemy.text(sql_query_gbg_highway_2023)) as cursor:\n",
    "        df_carflows_gbg_highway_2023 = pd.read_sql(sql_query_gbg_highway_2023, con=conn_flowsense)\n",
    "\n",
    "carflows_gbg_highway_2023 = gpd.GeoDataFrame(df_carflows_gbg_highway_2023, geometry=df_carflows_gbg_highway_2023['geometry'].apply(wkb.loads), crs=local_crs)"
   ],
   "id": "ea8076f7ff47252f",
   "outputs": [],
   "execution_count": null
  },
  {
   "metadata": {},
   "cell_type": "markdown",
   "source": "## combine flows and ground truth",
   "id": "834dd7905b2c332e"
  },
  {
   "metadata": {},
   "cell_type": "markdown",
   "source": "#### sample one point per groundtruth line, and find corresponding flow value",
   "id": "b2b4f6d7bf439706"
  },
  {
   "metadata": {},
   "cell_type": "code",
   "source": [
    "def sample_and_combine(flows, groundtruth):\n",
    "    # store original line geometry\n",
    "    flows['original_geom_flows'] = flows.geometry\n",
    "\n",
    "    # sample a point per groundtruth line\n",
    "    sample_points = groundtruth.copy()\n",
    "    sample_points['original_geom_gt'] = sample_points.geometry\n",
    "    if groundtruth.geom_type[0] == 'LineString':\n",
    "        sample_points.geometry = sample_points.geometry.interpolate(0.5, normalized=True)\n",
    "\n",
    "    # find flow-line within maximum distance away, identify nearest if multiple nearby\n",
    "    sample_points['_id'] = sample_points.index\n",
    "    joined = gpd.sjoin_nearest(sample_points, flows, how='inner', max_distance=10, distance_col='_dist')\n",
    "    idx = joined.groupby('_id')['_dist'].idxmin()\n",
    "    joined = joined.loc[idx].reset_index(drop=True)\n",
    "    joined.drop_duplicates(subset=['_id'], keep='first', inplace=True)\n",
    "    joined.drop(columns=['_id', '_dist'], inplace=True)\n",
    "\n",
    "    if plot:\n",
    "        print('{}% of sample points successfully joined'.format(round(100*len(joined)/len(sample_points), 2)))\n",
    "\n",
    "    return joined"
   ],
   "id": "5a61796a19e93804",
   "outputs": [],
   "execution_count": null
  },
  {
   "metadata": {},
   "cell_type": "code",
   "source": [
    "carflows_sthlm_2024_joined = sample_and_combine(flows_sthlm, carflows_sthlm_2024)\n",
    "carflows_gbg_local_2023_joined = sample_and_combine(flows_gbg, carflows_gbg_local_2023)\n",
    "carflows_gbg_highway_2023_joined = sample_and_combine(flows_gbg, carflows_gbg_highway_2023)"
   ],
   "id": "4ea529a07f495406",
   "outputs": [],
   "execution_count": null
  },
  {
   "metadata": {},
   "cell_type": "markdown",
   "source": "## Comparison",
   "id": "4d6502aa245659d6"
  },
  {
   "metadata": {},
   "cell_type": "code",
   "source": "sign_threshold = 0.01",
   "id": "3383dbf20e2dc684",
   "outputs": [],
   "execution_count": null
  },
  {
   "metadata": {},
   "cell_type": "code",
   "source": [
    "df = carflows_sthlm_2024_joined\n",
    "gt_col = 'trafikflöde__fordon_dygn__alla_fordon'\n",
    "\n",
    "y = df[gt_col]\n",
    "\n",
    "for col in df.columns:\n",
    "    if col.startswith('relflow_'):\n",
    "        relflow_col = col\n",
    "        x = df[relflow_col]\n",
    "\n",
    "        r, p = stats.spearmanr(x, y)\n",
    "        print(relflow_col)\n",
    "        print(r, p)\n",
    "        if p <= sign_threshold:\n",
    "            print('--> significant correlation between estimated and ground truth flows, Spearman R: {}'.format(round(r,3)))\n",
    "        else:\n",
    "            print('--> NO significant correlation')\n",
    "        print('')"
   ],
   "id": "aee307372057e91d",
   "outputs": [],
   "execution_count": null
  },
  {
   "metadata": {},
   "cell_type": "code",
   "source": [
    "df = carflows_gbg_local_2023_joined\n",
    "gt_col = 'ådt_normalized'\n",
    "\n",
    "y = df[gt_col]\n",
    "\n",
    "for col in df.columns:\n",
    "    if col.startswith('relflow_'):\n",
    "        relflow_col = col\n",
    "        x = df[relflow_col]\n",
    "\n",
    "        r, p = stats.spearmanr(x, y)\n",
    "        print(relflow_col)\n",
    "        print(r, p)\n",
    "        if p <= sign_threshold:\n",
    "            print('--> significant correlation between estimated and ground truth flows, Spearman R: {}'.format(round(r,3)))\n",
    "        else:\n",
    "            print('--> NO significant correlation')\n",
    "        print('')"
   ],
   "id": "df92c95b6709c274",
   "outputs": [],
   "execution_count": null
  },
  {
   "metadata": {},
   "cell_type": "code",
   "source": [
    "df = carflows_gbg_highway_2023_joined\n",
    "gt_col = 'adt_samtliga_fordon_normalized'\n",
    "\n",
    "y = df[gt_col]\n",
    "\n",
    "for col in df.columns:\n",
    "    if col.startswith('relflow_'):\n",
    "        relflow_col = col\n",
    "        x = df[relflow_col]\n",
    "\n",
    "        r, p = stats.spearmanr(x, y)\n",
    "        print(relflow_col)\n",
    "        print(r, p)\n",
    "        if p <= sign_threshold:\n",
    "            print('--> significant correlation between estimated and ground truth flows, Spearman R: {}'.format(round(r,3)))\n",
    "        else:\n",
    "            print('--> NO significant correlation')\n",
    "        print('')"
   ],
   "id": "b15c19bf8da1726f",
   "outputs": [],
   "execution_count": null
  },
  {
   "metadata": {},
   "cell_type": "code",
   "source": [
    "df = carflows_sthlm_2024_joined\n",
    "gt_col = 'trafikflöde__fordon_dygn__alla_fordon_normalized'\n",
    "relflow_col = 'relflow_minavgspeed0'\n",
    "\n",
    "y = df[gt_col]\n",
    "x = df[relflow_col]\n",
    "\n",
    "plt.scatter(x,y, alpha=0.2)\n",
    "plt.xlabel('estimated flow')\n",
    "plt.ylabel('ground truth flow')\n",
    "plt.title('any trajectory at Sthlm local/major roads')"
   ],
   "id": "d6cb0006d9bf9878",
   "outputs": [],
   "execution_count": null
  },
  {
   "metadata": {},
   "cell_type": "code",
   "source": [
    "df = carflows_gbg_local_2023_joined\n",
    "gt_col = 'ådt_normalized'\n",
    "relflow_col = 'relflow_minavgspeed0'\n",
    "\n",
    "y = df[gt_col]\n",
    "x = df[relflow_col]\n",
    "\n",
    "plt.scatter(x,y, alpha=0.2)\n",
    "plt.xlabel('estimated flow')\n",
    "plt.ylabel('ground truth flow')\n",
    "plt.title('any trajectory at Gbg local/major roads')"
   ],
   "id": "bb5df92f5edab2b8",
   "outputs": [],
   "execution_count": null
  },
  {
   "metadata": {},
   "cell_type": "code",
   "source": [
    "df = carflows_gbg_highway_2023_joined\n",
    "gt_col = 'adt_samtliga_fordon_normalized'\n",
    "relflow_col = 'relflow_minavgspeed0'\n",
    "\n",
    "y = df[gt_col]\n",
    "x = df[relflow_col]\n",
    "\n",
    "plt.scatter(x,y, alpha=0.2)\n",
    "plt.xlabel('estimated flow')\n",
    "plt.ylabel('ground truth flow')\n",
    "plt.title('any trajectory at Gbg highway locations')"
   ],
   "id": "889d042ae4937c13",
   "outputs": [],
   "execution_count": null
  },
  {
   "metadata": {},
   "cell_type": "code",
   "source": [
    "df = carflows_gbg_highway_2023_joined\n",
    "gt_col = 'adt_samtliga_fordon_normalized'\n",
    "relflow_col = 'relflow_minavgspeed20'\n",
    "\n",
    "y = df[gt_col]\n",
    "x = df[relflow_col]\n",
    "\n",
    "plt.scatter(x,y, alpha=0.2)\n",
    "plt.xlabel('estimated flow')\n",
    "plt.ylabel('ground truth flow')\n",
    "plt.title('trajectories avg_speed > 20 km/h at Gbg highway locations')"
   ],
   "id": "ddcb915f138d95bc",
   "outputs": [],
   "execution_count": null
  },
  {
   "metadata": {},
   "cell_type": "code",
   "source": "",
   "id": "3f7b7830e00a5e50",
   "outputs": [],
   "execution_count": null
  }
 ],
 "metadata": {
  "kernelspec": {
   "display_name": "Python 3",
   "language": "python",
   "name": "python3"
  },
  "language_info": {
   "codemirror_mode": {
    "name": "ipython",
    "version": 2
   },
   "file_extension": ".py",
   "mimetype": "text/x-python",
   "name": "python",
   "nbconvert_exporter": "python",
   "pygments_lexer": "ipython2",
   "version": "2.7.6"
  }
 },
 "nbformat": 4,
 "nbformat_minor": 5
}
