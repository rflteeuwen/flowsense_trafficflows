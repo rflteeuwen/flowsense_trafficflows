{
 "cells": [
  {
   "metadata": {
    "collapsed": true
   },
   "cell_type": "code",
   "source": [
    "import pandas as pd\n",
    "import geopandas as gpd\n",
    "from shapely import wkb\n",
    "import sqlalchemy\n",
    "import re"
   ],
   "id": "fb8e2f4fddb94165",
   "outputs": [],
   "execution_count": null
  },
  {
   "metadata": {},
   "cell_type": "markdown",
   "source": "## settings",
   "id": "30e161a4286c19fe"
  },
  {
   "metadata": {},
   "cell_type": "code",
   "source": [
    "local_crs = 3006\n",
    "osm_crs = 4326\n",
    "\n",
    "row_limit_lines = 1000000\n",
    "city_abbr = 'gbg'\n",
    "\n",
    "write_to_table = True\n",
    "plot = False"
   ],
   "id": "ce76f14309e6629",
   "outputs": [],
   "execution_count": null
  },
  {
   "metadata": {},
   "cell_type": "markdown",
   "source": "## read map-matched trajectories",
   "id": "43b86da7ade4b300"
  },
  {
   "metadata": {},
   "cell_type": "code",
   "source": [
    "# read from database\n",
    "url = sqlalchemy.URL.create(\n",
    "    \"postgresql+psycopg\", port=5432,\n",
    "    host=\"host\", database=\"database\", username=\"username\")\n",
    "engine = sqlalchemy.create_engine(url)"
   ],
   "id": "50b27c1bbc7de7bd",
   "outputs": [],
   "execution_count": null
  },
  {
   "metadata": {},
   "cell_type": "code",
   "source": [
    "n = 2 # n of samples to concatenate\n",
    "i = 1 # sample to load (in case n=1)\n",
    "\n",
    "if n == 1:\n",
    "    sql_query_lines = \"\"\"\n",
    "        SELECT *\n",
    "        FROM trajectories.{0}_trajectory_lines_2024_lcss_random{1}\n",
    "        LIMIT {2};\n",
    "        \"\"\".format(city_abbr, i, row_limit_lines)\n",
    "\n",
    "    with engine.connect() as conn_flowsense:\n",
    "        with conn_flowsense.execute(sqlalchemy.text(sql_query_lines)) as cursor:\n",
    "            df_lines = pd.read_sql(sql_query_lines, con=conn_flowsense)\n",
    "\n",
    "    mapmatched = gpd.GeoDataFrame(df_lines, geometry=df_lines['geometry'].apply(wkb.loads), crs=local_crs)\n",
    "\n",
    "else:\n",
    "    mapmatched = gpd.GeoDataFrame()\n",
    "\n",
    "    for i in range(n):\n",
    "\n",
    "        sql_query_lines = \"\"\"\n",
    "            SELECT *\n",
    "            FROM trajectories.{0}_trajectory_lines_2024_lcss_random{1}\n",
    "            LIMIT {2};\n",
    "            \"\"\".format(city_abbr, i+1, row_limit_lines)\n",
    "\n",
    "        with engine.connect() as conn_flowsense:\n",
    "            with conn_flowsense.execute(sqlalchemy.text(sql_query_lines)) as cursor:\n",
    "                df_lines = pd.read_sql(sql_query_lines, con=conn_flowsense)\n",
    "\n",
    "        gdf = gpd.GeoDataFrame(df_lines, geometry=df_lines['geometry'].apply(wkb.loads), crs=local_crs)\n",
    "        mapmatched = pd.concat([mapmatched, gdf], ignore_index=True)\n",
    "        mapmatched = mapmatched.drop_duplicates(subset='traj_id', keep='first')\n",
    "\n",
    "print(len(mapmatched))"
   ],
   "id": "2a46c11db029f926",
   "outputs": [],
   "execution_count": null
  },
  {
   "metadata": {},
   "cell_type": "code",
   "source": [
    "def road_ids_to_dict(roads_ids):\n",
    "    pattern = r'RoadId\\(start=(\\d+), end=(\\d+), key=(\\d+)\\)'\n",
    "    matches = re.findall(pattern, roads_ids)\n",
    "    return [{'start': int(start), 'end': int(end), 'key': int(key)} for start, end, key in matches]"
   ],
   "id": "837a98384ffee8c1",
   "outputs": [],
   "execution_count": null
  },
  {
   "metadata": {},
   "cell_type": "code",
   "source": "mapmatched['road_ids'] = mapmatched.road_ids.apply(lambda x: road_ids_to_dict(x))",
   "id": "324ba65cf132c395",
   "outputs": [],
   "execution_count": null
  },
  {
   "metadata": {},
   "cell_type": "code",
   "source": [
    "# split mapmatched trajectories per road segment\n",
    "mapmatched_exploded = mapmatched.explode('road_ids').rename(columns={'road_ids':'road_id'}).reset_index()\n",
    "mapmatched_exploded.road_id = mapmatched_exploded.road_id.apply(lambda x: (x['start'], x['end'], x['key']))"
   ],
   "id": "e31926f51a5d7570",
   "outputs": [],
   "execution_count": null
  },
  {
   "metadata": {},
   "cell_type": "code",
   "source": "len(mapmatched_exploded)",
   "id": "5280218b274d02f8",
   "outputs": [],
   "execution_count": null
  },
  {
   "metadata": {},
   "cell_type": "markdown",
   "source": "## read road network",
   "id": "1b1c5d48cce3d4f9"
  },
  {
   "metadata": {},
   "cell_type": "code",
   "source": [
    "sql_query_edges = \"\"\"\n",
    "    SELECT *\n",
    "    FROM road_network.trafikverket_edges_{};\n",
    "    \"\"\".format(city_abbr)\n",
    "\n",
    "with engine.connect() as conn_flowsense:\n",
    "    with conn_flowsense.execute(sqlalchemy.text(sql_query_lines)) as cursor:\n",
    "        df_edges = pd.read_sql(sql_query_edges, con=conn_flowsense)\n",
    "\n",
    "edges = gpd.GeoDataFrame(df_edges, geometry=df_edges['geometry'].apply(wkb.loads), crs=local_crs)"
   ],
   "id": "2776ff880011f1ac",
   "outputs": [],
   "execution_count": null
  },
  {
   "metadata": {},
   "cell_type": "code",
   "source": [
    "edges.set_index(['u', 'v', 'key'], inplace=True)\n",
    "edges['road_id'] = edges.index"
   ],
   "id": "329dd95aab5fca3b",
   "outputs": [],
   "execution_count": null
  },
  {
   "metadata": {},
   "cell_type": "markdown",
   "source": "## From trajectories to flows for several trajectory subsets",
   "id": "80e80ba3be142a55"
  },
  {
   "metadata": {},
   "cell_type": "code",
   "source": "flows = edges[['osmid', 'RLID', 'maxspeed', 'geometry', 'road_id']].copy()",
   "id": "a734c1a81e92ed50",
   "outputs": [],
   "execution_count": null
  },
  {
   "metadata": {},
   "cell_type": "code",
   "source": [
    "avg_speed_thresholds = [0, 2.5, 5, 7.5, 10, 12.5, 15, 17.5, 20] # 0 means including all trajectories\n",
    "npoints_thresholds = [2, 3, 4, 5, 6, 7, 8, 9, 10] # 2 means including all trajectories\n",
    "avg_dist_thresholds = [1000, 900, 800, 700, 600, 500, 400, 300, 200, 100] # 1000 means including all trajectories\n",
    "\n",
    "samplesize = 100000"
   ],
   "id": "6a292d276bd43367",
   "outputs": [],
   "execution_count": null
  },
  {
   "metadata": {},
   "cell_type": "code",
   "source": [
    "for threshold in avg_speed_thresholds:\n",
    "    mapmatched_subset = (mapmatched_exploded[mapmatched_exploded.avg_speed >= threshold]).sample(n=samplesize, random_state=1)\n",
    "    print(len(mapmatched_subset))\n",
    "\n",
    "    col_trajcount = 'trajcount_minavgspeed{}'.format(threshold)\n",
    "    col_relflow = 'relflow_minavgspeed{}'.format(threshold)\n",
    "\n",
    "    # count number of unique trajectories per road segment\n",
    "    edges_traj_ids = edges.merge(mapmatched_subset[['road_id', 'traj_id']], on='road_id', how='left')\n",
    "    trajs_per_road = edges_traj_ids.groupby('road_id')['traj_id'].nunique()\n",
    "\n",
    "    # flows: road network with trajectory counts\n",
    "    flows = flows.merge(trajs_per_road, on='road_id', how='left')\n",
    "    flows.rename(columns={'traj_id':col_trajcount}, inplace=True)\n",
    "\n",
    "    flows[col_relflow] = flows[col_trajcount] / flows[col_trajcount].max()"
   ],
   "id": "d348f4437570f8c8",
   "outputs": [],
   "execution_count": null
  },
  {
   "metadata": {},
   "cell_type": "code",
   "source": [
    "for threshold in npoints_thresholds:\n",
    "    mapmatched_subset = (mapmatched_exploded[mapmatched_exploded.n_points >= threshold]).sample(n=samplesize, random_state=1)\n",
    "    print(len(mapmatched_subset))\n",
    "\n",
    "    col_trajcount = 'trajcount_minnpoints{}'.format(threshold)\n",
    "    col_relflow = 'relflow_minnpoints{}'.format(threshold)\n",
    "\n",
    "    # count number of unique trajectories per road segment\n",
    "    edges_traj_ids = edges.merge(mapmatched_subset[['road_id', 'traj_id']], on='road_id', how='left')\n",
    "    trajs_per_road = edges_traj_ids.groupby('road_id')['traj_id'].nunique()\n",
    "\n",
    "    # flows: road network with trajectory counts\n",
    "    flows = flows.merge(trajs_per_road, on='road_id', how='left')\n",
    "    flows.rename(columns={'traj_id':col_trajcount}, inplace=True)\n",
    "\n",
    "    flows[col_relflow] = flows[col_trajcount] / flows[col_trajcount].max()"
   ],
   "id": "52e2e96c9b620859",
   "outputs": [],
   "execution_count": null
  },
  {
   "metadata": {},
   "cell_type": "code",
   "source": [
    "for threshold in avg_dist_thresholds:\n",
    "    mapmatched_subset = (mapmatched_exploded[mapmatched_exploded.avg_dist <= threshold]).sample(n=samplesize, random_state=1)\n",
    "    print(len(mapmatched_subset))\n",
    "\n",
    "    col_trajcount = 'trajcount_maxavgdist{}'.format(threshold)\n",
    "    col_relflow = 'relflow_maxavgdist{}'.format(threshold)\n",
    "\n",
    "    # count number of unique trajectories per road segment\n",
    "    edges_traj_ids = edges.merge(mapmatched_subset[['road_id', 'traj_id']], on='road_id', how='left')\n",
    "    trajs_per_road = edges_traj_ids.groupby('road_id')['traj_id'].nunique()\n",
    "\n",
    "    # flows: road network with trajectory counts\n",
    "    flows = flows.merge(trajs_per_road, on='road_id', how='left')\n",
    "    flows.rename(columns={'traj_id':col_trajcount}, inplace=True)\n",
    "\n",
    "    flows[col_relflow] = flows[col_trajcount] / flows[col_trajcount].max()"
   ],
   "id": "edb521d35ef4530c",
   "outputs": [],
   "execution_count": null
  },
  {
   "metadata": {},
   "cell_type": "code",
   "source": "flows.drop(columns='road_id', inplace=True)",
   "id": "5e20d3ff224bb947",
   "outputs": [],
   "execution_count": null
  },
  {
   "metadata": {},
   "cell_type": "markdown",
   "source": "## write flows to table",
   "id": "2638fb0bbadf46c6"
  },
  {
   "metadata": {},
   "cell_type": "code",
   "source": "flows['geometry'] = flows.geometry.force_2d()",
   "id": "31d9f10f0332a844",
   "outputs": [],
   "execution_count": null
  },
  {
   "metadata": {},
   "cell_type": "code",
   "source": "flows.rename(columns={'osmid':'ISA_index'}, inplace=True)",
   "id": "a2425e8d4956ead5",
   "outputs": [],
   "execution_count": null
  },
  {
   "metadata": {},
   "cell_type": "code",
   "source": [
    "# write to database\n",
    "if write_to_table:\n",
    "\n",
    "    url_flowsense = sqlalchemy.URL.create(\n",
    "        \"postgresql+psycopg\", port=5432,\n",
    "        host=\"host\", database=\"database\", username=\"username\")\n",
    "    engine_flowsense = sqlalchemy.create_engine(url_flowsense)\n",
    "\n",
    "    flows.to_postgis(\n",
    "        name='{}_flows_2024_random1to{}'.format(city_abbr, n),\n",
    "        con=engine_flowsense,\n",
    "        schema='flows',\n",
    "        if_exists='replace',\n",
    "        index=False)"
   ],
   "id": "2d011248b4852f23",
   "outputs": [],
   "execution_count": null
  },
  {
   "metadata": {},
   "cell_type": "code",
   "source": "",
   "id": "80440c9b71f3e0bf",
   "outputs": [],
   "execution_count": null
  }
 ],
 "metadata": {
  "kernelspec": {
   "display_name": "Python 3",
   "language": "python",
   "name": "python3"
  },
  "language_info": {
   "codemirror_mode": {
    "name": "ipython",
    "version": 2
   },
   "file_extension": ".py",
   "mimetype": "text/x-python",
   "name": "python",
   "nbconvert_exporter": "python",
   "pygments_lexer": "ipython2",
   "version": "2.7.6"
  }
 },
 "nbformat": 4,
 "nbformat_minor": 5
}
