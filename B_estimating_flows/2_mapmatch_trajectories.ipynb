{
 "cells": [
  {
   "metadata": {
    "collapsed": true
   },
   "cell_type": "code",
   "source": [
    "import pandas as pd\n",
    "import geopandas as gpd\n",
    "from shapely import Point, wkb, get_coordinates, geometry\n",
    "import matplotlib.pyplot as plt\n",
    "import sqlalchemy\n",
    "from zoneinfo import ZoneInfo\n",
    "import osmnx as ox\n",
    "import warnings\n",
    "from mappymatch.constructs.trace import Trace\n",
    "from mappymatch.maps.nx.nx_map import NxMap\n",
    "from mappymatch.matchers.lcss.lcss import LCSSMatcher\n",
    "from mappymatch.matchers.line_snap import LineSnapMatcher\n",
    "from mappymatch.maps.nx.readers.osm_readers import *"
   ],
   "id": "fb8e2f4fddb94165",
   "outputs": [],
   "execution_count": null
  },
  {
   "metadata": {},
   "cell_type": "markdown",
   "source": "## settings",
   "id": "30e161a4286c19fe"
  },
  {
   "metadata": {},
   "cell_type": "code",
   "source": [
    "local_crs = 3006\n",
    "osm_crs = 4326\n",
    "graph_crs = 32634\n",
    "\n",
    "row_limit_lines = 1000000\n",
    "n_batches = 1\n",
    "n_batch = 1\n",
    "city_abbr = 'gbg'\n",
    "\n",
    "mapmatching_graph = 'custom'       # custom or osm\n",
    "match_algorithm = 'LCSS'        # LCSS, LineSnap\n",
    "\n",
    "write_to_table = True\n",
    "if_exists = 'replace' # replace or append\n",
    "plot = True"
   ],
   "id": "ce76f14309e6629",
   "outputs": [],
   "execution_count": null
  },
  {
   "metadata": {},
   "cell_type": "markdown",
   "source": "## read trajectories",
   "id": "43b86da7ade4b300"
  },
  {
   "metadata": {},
   "cell_type": "code",
   "source": [
    "# read from database\n",
    "url = sqlalchemy.URL.create(\n",
    "    \"postgresql+psycopg\", port=5432,\n",
    "    host=\"host\", database=\"database\", username=\"username\")\n",
    "engine = sqlalchemy.create_engine(url)"
   ],
   "id": "50b27c1bbc7de7bd",
   "outputs": [],
   "execution_count": null
  },
  {
   "metadata": {},
   "cell_type": "code",
   "source": "traj_table_name = '{}_trajectory_lines_2024'.format(city_abbr)",
   "id": "50e399ae4a782e97",
   "outputs": [],
   "execution_count": null
  },
  {
   "metadata": {},
   "cell_type": "code",
   "source": [
    "if n_batches > 1:\n",
    "    sql_query_lines = \"\"\"\n",
    "    WITH\n",
    "    NumberedRows AS (\n",
    "        SELECT *, ROW_NUMBER() OVER (ORDER BY (SELECT NULL)) AS RowNum, COUNT(*) OVER () AS TotalRows\n",
    "        FROM trajectories.{0}\n",
    "        ),\n",
    "    Percentiles AS (\n",
    "        SELECT *, NTILE({1}) OVER (ORDER BY RowNum) AS Percentile\n",
    "        FROM NumberedRows\n",
    "        )\n",
    "    SELECT *\n",
    "    FROM Percentiles\n",
    "    WHERE Percentile = {2};\n",
    "    \"\"\".format(traj_table_name, n_batches, n_batch)\n",
    "else:\n",
    "    sql_query_lines = \"\"\"\n",
    "    SELECT *\n",
    "    FROM trajectories.{0}\n",
    "    ORDER BY RANDOM()\n",
    "    LIMIT {1};\n",
    "    \"\"\".format(traj_table_name, row_limit_lines)\n",
    "\n",
    "with engine.connect() as conn_flowsense:\n",
    "    with conn_flowsense.execute(sqlalchemy.text(sql_query_lines)) as cursor:\n",
    "        df_lines = pd.read_sql(sql_query_lines, con=conn_flowsense)"
   ],
   "id": "2a46c11db029f926",
   "outputs": [],
   "execution_count": null
  },
  {
   "metadata": {},
   "cell_type": "code",
   "source": "traj_lines = gpd.GeoDataFrame(df_lines, geometry=df_lines['geometry'].apply(wkb.loads), crs=local_crs)",
   "id": "d7edd52c8cd2f6c0",
   "outputs": [],
   "execution_count": null
  },
  {
   "metadata": {},
   "cell_type": "code",
   "source": [
    "traj_lines['start_timestamp_se'] = traj_lines['start_timestamp_se'].dt.tz_convert(ZoneInfo(\"Europe/Stockholm\"))\n",
    "traj_lines['end_timestamp_se'] = traj_lines['end_timestamp_se'].dt.tz_convert(ZoneInfo(\"Europe/Stockholm\"))"
   ],
   "id": "e28af80cd53a3d",
   "outputs": [],
   "execution_count": null
  },
  {
   "metadata": {},
   "cell_type": "code",
   "source": "len(traj_lines)",
   "id": "10c8c4d9d9a580c3",
   "outputs": [],
   "execution_count": null
  },
  {
   "metadata": {},
   "cell_type": "markdown",
   "source": "## read custom network (if applicable)",
   "id": "b4a91359cdc4392a"
  },
  {
   "metadata": {},
   "cell_type": "code",
   "source": [
    "if mapmatching_graph == 'custom':\n",
    "\n",
    "    sql_query_edges = \"\"\"\n",
    "        SELECT *\n",
    "        FROM road_network.trafikverket_edges_{};\n",
    "        \"\"\".format(city_abbr)\n",
    "\n",
    "    sql_query_nodes = \"\"\"\n",
    "        SELECT *\n",
    "        FROM road_network.trafikverket_nodes_{};\n",
    "        \"\"\".format(city_abbr)\n",
    "\n",
    "    with engine.connect() as conn_flowsense:\n",
    "        with conn_flowsense.execute(sqlalchemy.text(sql_query_lines)) as cursor:\n",
    "            df_edges = pd.read_sql(sql_query_edges, con=conn_flowsense)\n",
    "            df_nodes = pd.read_sql(sql_query_nodes, con=conn_flowsense)\n",
    "\n",
    "    custom_edges = gpd.GeoDataFrame(df_edges, geometry=df_edges['geometry'].apply(wkb.loads), crs=local_crs)\n",
    "    custom_nodes = gpd.GeoDataFrame(df_nodes, geometry=df_nodes['geometry'].apply(wkb.loads), crs=local_crs)\n",
    "\n",
    "    custom_edges.to_crs(graph_crs, inplace=True)\n",
    "    custom_nodes.to_crs(graph_crs, inplace=True)"
   ],
   "id": "1974dfd0ff5a1d58",
   "outputs": [],
   "execution_count": null
  },
  {
   "metadata": {},
   "cell_type": "markdown",
   "source": "## mapmatching with mappymatch library",
   "id": "aae4ce0008cf22ab"
  },
  {
   "metadata": {},
   "cell_type": "markdown",
   "source": [
    "https://nrel.github.io/mappymatch/lcss-example.html\n",
    "\n",
    "Zhu, Lei, Jacob R. Holden, and Jeffrey D. Gonder. \"Trajectory Segmentation Map-Matching Approach for Large-Scale, High-Resolution GPS Data.\" Transportation Research Record: Journal of the Transportation Research Board 2645 (2017): 67-75."
   ],
   "id": "7fdf128fc19151b5"
  },
  {
   "metadata": {},
   "cell_type": "code",
   "source": "bbox = gpd.GeoDataFrame(index=[0], geometry=[geometry.box(*traj_lines.total_bounds)], crs=local_crs)",
   "id": "71c66d269b7f12",
   "outputs": [],
   "execution_count": null
  },
  {
   "metadata": {},
   "cell_type": "code",
   "source": [
    "if mapmatching_graph == 'osm':\n",
    "\n",
    "    # projected graph of drivable roads\n",
    "    # combining OSM network_type filter 'all' with excluding dedicated pedestrian/bikeways and steps\n",
    "    custom_filter = \"\"\"\n",
    "        [\"highway\"][\"area\"!~\"yes\"][\"highway\"!~\"abandoned|construction|no|planned|platform|proposed|raceway|razed'\n",
    "        '|footway|pedestrian|steps|cycleway\"]\"\"\"\n",
    "\n",
    "    G = ox.project_graph(ox.graph_from_polygon(bbox.to_crs(osm_crs).geometry[0], network_type='drive', custom_filter=custom_filter, retain_all=True))\n",
    "    nodes, edges = ox.graph_to_gdfs(G, nodes=True, edges=True)\n",
    "\n",
    "elif mapmatching_graph == 'custom':\n",
    "    pass\n",
    "\n",
    "    custom_edges.set_index(['u', 'v', 'key'], inplace=True)\n",
    "    custom_nodes.set_index(['osmid'], inplace=True)\n",
    "\n",
    "    # create and simplify the graph\n",
    "    G = ox.graph_from_gdfs(custom_nodes, custom_edges)\n",
    "    G = ox.simplify_graph(G, edge_attrs_differ=['straight_line'])\n",
    "\n",
    "    # get final nodes and edges gdfs after simplifying\n",
    "    nodes, edges = ox.graph_to_gdfs(G, nodes=True, edges=True)\n",
    "\n",
    "    edges.drop(columns='straight_line', inplace=True)"
   ],
   "id": "a3ec318f57f676d2",
   "outputs": [],
   "execution_count": null
  },
  {
   "metadata": {},
   "cell_type": "code",
   "source": [
    "if plot:\n",
    "    ox.plot_graph(G)"
   ],
   "id": "9827c868cf48317c",
   "outputs": [],
   "execution_count": null
  },
  {
   "metadata": {},
   "cell_type": "code",
   "source": "nx_map = NxMap(parse_osmnx_graph(G, network_type=NetworkType.DRIVE, xy=True))",
   "id": "7a4bfb9c78d2c214",
   "outputs": [],
   "execution_count": null
  },
  {
   "metadata": {},
   "cell_type": "code",
   "source": [
    "if match_algorithm == 'LCSS':\n",
    "    matcher = LCSSMatcher(nx_map, similarity_cutoff=0.95)\n",
    "elif match_algorithm == 'LineSnap':\n",
    "    matcher = LineSnapMatcher(nx_map)"
   ],
   "id": "33771dd3fb333bf7",
   "outputs": [],
   "execution_count": null
  },
  {
   "metadata": {},
   "cell_type": "code",
   "source": [
    "def match_with_mappymatch(row, crs=3857, warn=False):\n",
    "\n",
    "    coordinates = get_coordinates(row.geometry)\n",
    "    points = [(x, y) for x, y in zip(coordinates[:, 0], coordinates[:, 1])]\n",
    "    gdf_points = gpd.GeoDataFrame(geometry=[Point(xy) for xy in points], crs=local_crs).to_crs(crs)\n",
    "\n",
    "    trace = Trace.from_geo_dataframe(gdf_points)\n",
    "    match_result = matcher.match_trace(trace)\n",
    "\n",
    "    if len(match_result.path_to_dataframe()):\n",
    "        gdf = match_result.path_to_geodataframe().to_crs(local_crs)\n",
    "    elif len(match_result.matches_to_dataframe()) and (type(matcher) == LineSnapMatcher):\n",
    "        gdf = match_result.matches_to_geodataframe().to_crs(local_crs)\n",
    "    else:\n",
    "        gdf = gpd.GeoDataFrame()\n",
    "\n",
    "    if len(gdf):\n",
    "        from_to = list(zip(\n",
    "            gdf.origin_junction_id.to_list(),\n",
    "            gdf.destination_junction_id.to_list()))\n",
    "        road_ids = list(gdf.road_id)\n",
    "        dissolved = gdf.dissolve()\n",
    "        return dissolved.geom[0], from_to, road_ids\n",
    "\n",
    "    else:\n",
    "        if warn:\n",
    "            (print('Matching failed for trajectory with id '+str(row.traj_id)))\n",
    "        return row.geometry, None, None"
   ],
   "id": "9591533acc07af6e",
   "outputs": [],
   "execution_count": null
  },
  {
   "metadata": {},
   "cell_type": "code",
   "source": [
    "to_match = traj_lines.copy()\n",
    "with warnings.catch_warnings():\n",
    "    warnings.simplefilter('ignore')\n",
    "    to_match[['geometry', 'from_to', 'road_ids']] = to_match.apply(lambda row: match_with_mappymatch(row), axis=1, result_type='expand')\n",
    "mapmatched = to_match[to_match.from_to.notnull()].copy()\n",
    "unmatched = to_match[to_match.from_to.isnull()].copy()"
   ],
   "id": "a1f83f5eba832380",
   "outputs": [],
   "execution_count": null
  },
  {
   "metadata": {},
   "cell_type": "code",
   "source": "print(\"{} out of {} ({}%) trajectories were successfully matched\".format(len(mapmatched), len(to_match), round(100*(len(mapmatched)/len(to_match)), 2)))",
   "id": "b9883809f352fffa",
   "outputs": [],
   "execution_count": null
  },
  {
   "metadata": {},
   "cell_type": "code",
   "source": [
    "if plot:\n",
    "    fig, axs = plt.subplots(nrows=1, ncols=1, figsize=(12,12))\n",
    "\n",
    "    edges.to_crs(local_crs).plot(ax=axs, color='#f6f6f6', linewidth=0.5, zorder=1)\n",
    "    if len(mapmatched): mapmatched.plot(ax=axs, color='red', linewidth=1, zorder=2, alpha=0.05)\n",
    "    if len(unmatched): unmatched.plot(ax=axs, color='cyan', linewidth=1, zorder=2, alpha=0.05)\n",
    "\n",
    "    plt.axis('off')\n",
    "\n",
    "    plt.show()"
   ],
   "id": "346a6c7ef2cf5c91",
   "outputs": [],
   "execution_count": null
  },
  {
   "metadata": {},
   "cell_type": "code",
   "source": "len(mapmatched)",
   "id": "9d12c202caf4a3a",
   "outputs": [],
   "execution_count": null
  },
  {
   "metadata": {},
   "cell_type": "markdown",
   "source": "## write to table",
   "id": "2638fb0bbadf46c6"
  },
  {
   "metadata": {},
   "cell_type": "code",
   "source": [
    "# write to database\n",
    "if write_to_table:\n",
    "\n",
    "    url_flowsense = sqlalchemy.URL.create(\n",
    "        \"postgresql+psycopg\", port=5432,\n",
    "        host=\"host\", database=\"database\", username=\"username\")\n",
    "    engine_flowsense = sqlalchemy.create_engine(url_flowsense)\n",
    "\n",
    "    mapmatched.to_postgis(\n",
    "        name=traj_table_name + '_{}_random2'.format(match_algorithm.lower()),\n",
    "        con=engine_flowsense,\n",
    "        schema='trajectories',\n",
    "        if_exists=if_exists,\n",
    "        index=False)\n",
    "\n",
    "    unmatched.to_postgis(\n",
    "        name=traj_table_name + '_{}_random2_unmatched'.format(match_algorithm.lower()),\n",
    "        con=engine_flowsense,\n",
    "        schema='trajectories',\n",
    "        if_exists=if_exists,\n",
    "        index=False)"
   ],
   "id": "2d011248b4852f23",
   "outputs": [],
   "execution_count": null
  }
 ],
 "metadata": {
  "kernelspec": {
   "display_name": "Python 3",
   "language": "python",
   "name": "python3"
  },
  "language_info": {
   "codemirror_mode": {
    "name": "ipython",
    "version": 2
   },
   "file_extension": ".py",
   "mimetype": "text/x-python",
   "name": "python",
   "nbconvert_exporter": "python",
   "pygments_lexer": "ipython2",
   "version": "2.7.6"
  }
 },
 "nbformat": 4,
 "nbformat_minor": 5
}
