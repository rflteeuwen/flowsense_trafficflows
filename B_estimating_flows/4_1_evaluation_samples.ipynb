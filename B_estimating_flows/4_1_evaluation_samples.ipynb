{
 "cells": [
  {
   "metadata": {
    "collapsed": true
   },
   "cell_type": "code",
   "source": [
    "import pandas as pd\n",
    "import geopandas as gpd\n",
    "from shapely import  wkb\n",
    "import matplotlib.pyplot as plt\n",
    "import sqlalchemy\n",
    "from scipy import stats"
   ],
   "id": "dc3f3c11bb1c333e",
   "outputs": [],
   "execution_count": null
  },
  {
   "metadata": {},
   "cell_type": "markdown",
   "source": "## settings",
   "id": "9b8bd00ce778966f"
  },
  {
   "metadata": {},
   "cell_type": "code",
   "source": [
    "local_crs = 3006\n",
    "\n",
    "plot = True\n",
    "\n",
    "main_relflow_col = 'relflow_minspeed0_minpoints2'"
   ],
   "id": "33df86c2aeb5643c",
   "outputs": [],
   "execution_count": null
  },
  {
   "metadata": {},
   "cell_type": "markdown",
   "source": "## read flows",
   "id": "a06720c264b25f1b"
  },
  {
   "metadata": {},
   "cell_type": "code",
   "source": [
    "# read from database\n",
    "url = sqlalchemy.URL.create(\n",
    "    \"postgresql+psycopg\", port=5432,\n",
    "    host=\"host\", database=\"database\", username=\"username\")\n",
    "engine = sqlalchemy.create_engine(url)"
   ],
   "id": "2b3d72b566903ffe",
   "outputs": [],
   "execution_count": null
  },
  {
   "metadata": {},
   "cell_type": "code",
   "source": [
    "n = 10 # n of samples to evaluate\n",
    "i = 1 # sample to load (in case n=1)\n",
    "\n",
    "if n == 1:\n",
    "\n",
    "    sql_query_flows_sthlm = \"SELECT * FROM flows.sthlm_flows_2024_random{};\".format(i)\n",
    "\n",
    "    with engine.connect() as conn_flowsense:\n",
    "        with conn_flowsense.execute(sqlalchemy.text(sql_query_flows_sthlm)) as cursor:\n",
    "            df_flows_sthlm = pd.read_sql(sql_query_flows_sthlm, con=conn_flowsense)\n",
    "\n",
    "    flows_sthlm = gpd.GeoDataFrame(df_flows_sthlm, geometry=df_flows_sthlm['geometry'].apply(wkb.loads), crs=local_crs)\n",
    "\n",
    "else:\n",
    "\n",
    "    sql_query_flows_sthlm = \"SELECT * FROM flows.sthlm_flows_2024_random1to{};\".format(n)\n",
    "\n",
    "    with engine.connect() as conn_flowsense:\n",
    "        with conn_flowsense.execute(sqlalchemy.text(sql_query_flows_sthlm)) as cursor:\n",
    "            df_flows_sthlm = pd.read_sql(sql_query_flows_sthlm, con=conn_flowsense)\n",
    "\n",
    "    flows_sthlm = gpd.GeoDataFrame(df_flows_sthlm, geometry=df_flows_sthlm['geometry'].apply(wkb.loads), crs=local_crs)"
   ],
   "id": "b60ee19f93460efa",
   "outputs": [],
   "execution_count": null
  },
  {
   "metadata": {},
   "cell_type": "markdown",
   "source": "#### sum flows in both directions per road",
   "id": "fb232fb9f52cf51a"
  },
  {
   "metadata": {},
   "cell_type": "code",
   "source": [
    "def sum_and_renormalize(flows):\n",
    "\n",
    "    # sum relative flow and traj count for edge and its corresponding reverse\n",
    "    for col in flows.columns:\n",
    "        if col.startswith('relflow_'):\n",
    "            flows = pd.merge(\n",
    "                flows.groupby(\"ISA_index\").sum([col, col.replace('relflow', 'trajcount')]),\n",
    "                flows[['ISA_index', 'geometry', 'RLID']],\n",
    "                on='ISA_index',\n",
    "                how='left').drop_duplicates('ISA_index', keep='first').reset_index(drop=True)\n",
    "    flows.set_index('ISA_index', inplace=True)\n",
    "    flows = gpd.GeoDataFrame(flows, geometry=flows.geometry, crs=local_crs)\n",
    "\n",
    "    # renormalize flows now that values are summed\n",
    "    for col in flows.columns:\n",
    "        if col.startswith('relflow_'):\n",
    "            flows[col] = flows[col] / flows[col].max()\n",
    "\n",
    "    return flows"
   ],
   "id": "5b3c6dddf47211a1",
   "outputs": [],
   "execution_count": null
  },
  {
   "metadata": {},
   "cell_type": "code",
   "source": "flows_sthlm = sum_and_renormalize(flows_sthlm)",
   "id": "b6c7a0fd21a6f804",
   "outputs": [],
   "execution_count": null
  },
  {
   "metadata": {},
   "cell_type": "markdown",
   "source": "## read ground truth data",
   "id": "d06d8a668b10d524"
  },
  {
   "metadata": {},
   "cell_type": "code",
   "source": [
    "sql_query_sthlm_2024 = \"SELECT * FROM ground_truth.flows_cars_sthlm_2024;\"\n",
    "\n",
    "with engine.connect() as conn_flowsense:\n",
    "    with conn_flowsense.execute(sqlalchemy.text(sql_query_sthlm_2024)) as cursor:\n",
    "        df_carflows_sthlm_2024 = pd.read_sql(sql_query_sthlm_2024, con=conn_flowsense)\n",
    "\n",
    "carflows_sthlm_2024 = gpd.GeoDataFrame(df_carflows_sthlm_2024, geometry=df_carflows_sthlm_2024['geometry'].apply(wkb.loads), crs=local_crs)"
   ],
   "id": "7d4f4dadc1e6dfa7",
   "outputs": [],
   "execution_count": null
  },
  {
   "metadata": {},
   "cell_type": "markdown",
   "source": "## combine flows and ground truth",
   "id": "834dd7905b2c332e"
  },
  {
   "metadata": {},
   "cell_type": "markdown",
   "source": "#### sample one point per groundtruth line, and find corresponding flow value",
   "id": "b2b4f6d7bf439706"
  },
  {
   "metadata": {},
   "cell_type": "code",
   "source": [
    "def sample_and_combine(flows, groundtruth):\n",
    "    # store original line geometry\n",
    "    flows['original_geom_flows'] = flows.geometry\n",
    "\n",
    "    # sample a point per groundtruth line\n",
    "    sample_points = groundtruth.copy()\n",
    "    sample_points['original_geom_gt'] = sample_points.geometry\n",
    "    if groundtruth.geom_type[0] == 'LineString':\n",
    "        sample_points.geometry = sample_points.geometry.interpolate(0.5, normalized=True)\n",
    "\n",
    "    # find flow-line within maximum distance away, identify nearest if multiple nearby\n",
    "    sample_points['_id'] = sample_points.index\n",
    "    joined = gpd.sjoin_nearest(sample_points, flows, how='inner', max_distance=10, distance_col='_dist')\n",
    "    idx = joined.groupby('_id')['_dist'].idxmin()\n",
    "    joined = joined.loc[idx].reset_index(drop=True)\n",
    "    joined.drop_duplicates(subset=['_id'], keep='first', inplace=True)\n",
    "    joined.drop(columns=['_id', '_dist'], inplace=True)\n",
    "\n",
    "    if plot:\n",
    "        print('{}% of sample points successfully joined'.format(round(100*len(joined)/len(sample_points), 2)))\n",
    "\n",
    "    return joined"
   ],
   "id": "5a61796a19e93804",
   "outputs": [],
   "execution_count": null
  },
  {
   "metadata": {},
   "cell_type": "code",
   "source": "carflows_sthlm_2024_joined = sample_and_combine(flows_sthlm, carflows_sthlm_2024)",
   "id": "4ea529a07f495406",
   "outputs": [],
   "execution_count": null
  },
  {
   "metadata": {},
   "cell_type": "markdown",
   "source": "## Comparison",
   "id": "4d6502aa245659d6"
  },
  {
   "metadata": {},
   "cell_type": "code",
   "source": "sign_threshold = 0.01",
   "id": "3383dbf20e2dc684",
   "outputs": [],
   "execution_count": null
  },
  {
   "metadata": {},
   "cell_type": "code",
   "source": [
    "x1 = carflows_sthlm_2024_joined[main_relflow_col]\n",
    "y1 = carflows_sthlm_2024_joined.trafikflöde__fordon_dygn__alla_fordon"
   ],
   "id": "aee307372057e91d",
   "outputs": [],
   "execution_count": null
  },
  {
   "metadata": {},
   "cell_type": "code",
   "source": [
    "if plot:\n",
    "    fig, axs = plt.subplots(figsize=(20,6))\n",
    "\n",
    "    axs.scatter(x1, y1, alpha=0.2)\n",
    "\n",
    "    # ax.set_yscale('log')\n",
    "    axs.set_xlabel('Estimated relative flow (normalized 0-1)')\n",
    "    # ax.set_xscale('log')\n",
    "    axs.set_ylabel('Ground truth (absolute values)')\n",
    "\n",
    "    plt.show()"
   ],
   "id": "923039ca03dc3f48",
   "outputs": [],
   "execution_count": null
  },
  {
   "metadata": {},
   "cell_type": "code",
   "source": [
    "r, p = stats.spearmanr(x1, y1)\n",
    "print(r, p)\n",
    "if p <= sign_threshold:\n",
    "    print('--> significant correlation between estimated and ground truth flows, Spearman R: {}'.format(round(r,3)))\n",
    "else:\n",
    "    print('--> NO significant correlation')"
   ],
   "id": "3dbf5c496f0a7fd5",
   "outputs": [],
   "execution_count": null
  },
  {
   "metadata": {},
   "cell_type": "code",
   "source": "",
   "id": "293f3a4e160c8c1c",
   "outputs": [],
   "execution_count": null
  }
 ],
 "metadata": {
  "kernelspec": {
   "display_name": "Python 3",
   "language": "python",
   "name": "python3"
  },
  "language_info": {
   "codemirror_mode": {
    "name": "ipython",
    "version": 2
   },
   "file_extension": ".py",
   "mimetype": "text/x-python",
   "name": "python",
   "nbconvert_exporter": "python",
   "pygments_lexer": "ipython2",
   "version": "2.7.6"
  }
 },
 "nbformat": 4,
 "nbformat_minor": 5
}
