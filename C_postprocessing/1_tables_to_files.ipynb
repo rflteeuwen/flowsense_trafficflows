{
 "cells": [
  {
   "cell_type": "code",
   "id": "initial_id",
   "metadata": {
    "collapsed": true,
    "ExecuteTime": {
     "end_time": "2025-08-12T11:51:39.522164Z",
     "start_time": "2025-08-12T11:51:37.254141Z"
    }
   },
   "source": [
    "import sqlalchemy\n",
    "import pandas as pd\n",
    "import geopandas as gpd\n",
    "from shapely import wkb"
   ],
   "outputs": [],
   "execution_count": 1
  },
  {
   "metadata": {},
   "cell_type": "markdown",
   "source": "## settings",
   "id": "52693d108f2d7b97"
  },
  {
   "metadata": {
    "ExecuteTime": {
     "end_time": "2025-08-12T11:51:39.537139Z",
     "start_time": "2025-08-12T11:51:39.534768Z"
    }
   },
   "cell_type": "code",
   "source": "local_crs = 3006",
   "id": "f1889f4c60e65973",
   "outputs": [],
   "execution_count": 2
  },
  {
   "metadata": {
    "ExecuteTime": {
     "end_time": "2025-08-12T11:51:51.785018Z",
     "start_time": "2025-08-12T11:51:51.704688Z"
    }
   },
   "cell_type": "code",
   "source": [
    "url_flowsense = sqlalchemy.URL.create(\n",
    "    \"postgresql+psycopg\", port=5432,\n",
    "    host=\"cirrus.ita.chalmers.se\", database=\"flowsense\", username=\"flowsense\")\n",
    "engine_flowsense = sqlalchemy.create_engine(url_flowsense)"
   ],
   "id": "1840d595c2e2448a",
   "outputs": [],
   "execution_count": 4
  },
  {
   "metadata": {},
   "cell_type": "markdown",
   "source": "## road network data",
   "id": "b34e6d99ee10f2a5"
  },
  {
   "metadata": {
    "ExecuteTime": {
     "end_time": "2025-08-12T11:51:52.736434Z",
     "start_time": "2025-08-12T11:51:52.733986Z"
    }
   },
   "cell_type": "code",
   "source": [
    "tables = [\n",
    "    'road_network.trafikverket_edges_sthlm',\n",
    "    'road_network.trafikverket_nodes_sthlm',\n",
    "    'road_network.trafikverket_edges_gbg',\n",
    "    'road_network.trafikverket_nodes_gbg'\n",
    "]"
   ],
   "id": "d9f428026d56887",
   "outputs": [],
   "execution_count": 5
  },
  {
   "metadata": {
    "ExecuteTime": {
     "end_time": "2025-08-12T11:56:57.742850Z",
     "start_time": "2025-08-12T11:56:35.713337Z"
    }
   },
   "cell_type": "code",
   "source": [
    "with engine_flowsense.connect() as conn_flowsense:\n",
    "\n",
    "    for table_name in tables:\n",
    "\n",
    "        sql_query = \"SELECT * FROM {0}\".format(table_name)\n",
    "        with conn_flowsense.execute(sqlalchemy.text(sql_query)) as cursor:\n",
    "            df = pd.read_sql(sql_query, con=conn_flowsense)\n",
    "            gdf = gpd.GeoDataFrame(df, geometry=df['geometry'].apply(wkb.loads), crs=local_crs)\n",
    "\n",
    "            file_name = table_name.replace('.', '_')\n",
    "            gdf.to_file('../data/road_network/preprocessed/{0}.geojson'.format(file_name), driver=\"GeoJSON\")"
   ],
   "id": "966ecd40e29aacad",
   "outputs": [],
   "execution_count": 25
  },
  {
   "metadata": {},
   "cell_type": "markdown",
   "source": "## ground truth data",
   "id": "e93b722f73952991"
  },
  {
   "metadata": {
    "ExecuteTime": {
     "end_time": "2025-08-12T12:13:11.677791Z",
     "start_time": "2025-08-12T12:13:11.672938Z"
    }
   },
   "cell_type": "code",
   "source": [
    "tables = [\n",
    "    'ground_truth.flows_cars_sthlm_2024',\n",
    "    'ground_truth.flows_cars_gbg_local_2023',\n",
    "    'ground_truth.flows_cars_gbg_highway_2023'\n",
    "]"
   ],
   "id": "5fb8fe8962abd48f",
   "outputs": [],
   "execution_count": 26
  },
  {
   "metadata": {
    "ExecuteTime": {
     "end_time": "2025-08-12T12:13:12.564397Z",
     "start_time": "2025-08-12T12:13:12.115122Z"
    }
   },
   "cell_type": "code",
   "source": [
    "with engine_flowsense.connect() as conn_flowsense:\n",
    "\n",
    "    for table_name in tables:\n",
    "\n",
    "        sql_query = \"SELECT * FROM {0}\".format(table_name)\n",
    "        with conn_flowsense.execute(sqlalchemy.text(sql_query)) as cursor:\n",
    "            df = pd.read_sql(sql_query, con=conn_flowsense)\n",
    "            gdf = gpd.GeoDataFrame(df, geometry=df['geometry'].apply(wkb.loads), crs=local_crs)\n",
    "\n",
    "            file_name = table_name.replace('.', '_')\n",
    "            gdf.to_file('../data/ground_truth/preprocessed/{0}.geojson'.format(file_name), driver=\"GeoJSON\")"
   ],
   "id": "e7e5bb6a50613ad2",
   "outputs": [],
   "execution_count": 27
  },
  {
   "metadata": {},
   "cell_type": "markdown",
   "source": "## traffic flow data",
   "id": "bb94459601debf36"
  },
  {
   "metadata": {
    "ExecuteTime": {
     "end_time": "2025-08-12T13:41:22.479951Z",
     "start_time": "2025-08-12T13:41:22.476123Z"
    }
   },
   "cell_type": "code",
   "source": [
    "tables = [\n",
    "    'flows.sthlm_flows_2024_random1',\n",
    "    'flows.sthlm_flows_2024_random2',\n",
    "    'flows.sthlm_flows_2024_random3',\n",
    "    'flows.sthlm_flows_2024_random4',\n",
    "    'flows.sthlm_flows_2024_random5',\n",
    "    'flows.sthlm_flows_2024_random6',\n",
    "    'flows.sthlm_flows_2024_random7',\n",
    "    'flows.sthlm_flows_2024_random8',\n",
    "    'flows.sthlm_flows_2024_random9',\n",
    "    'flows.sthlm_flows_2024_random10',\n",
    "    'flows.sthlm_flows_2024_random1to2',\n",
    "    'flows.sthlm_flows_2024_random1to3',\n",
    "    'flows.sthlm_flows_2024_random1to4',\n",
    "    'flows.sthlm_flows_2024_random1to5',\n",
    "    'flows.sthlm_flows_2024_random1to6',\n",
    "    'flows.sthlm_flows_2024_random1to7',\n",
    "    'flows.sthlm_flows_2024_random1to8',\n",
    "    'flows.sthlm_flows_2024_random1to9',\n",
    "    'flows.sthlm_flows_2024_random1to10',\n",
    "    'flows.sthlm_flows_2024_random1to11',\n",
    "    'flows.gbg_flows_2024_random1to2'\n",
    "]"
   ],
   "id": "2570ceefd4a9fba1",
   "outputs": [],
   "execution_count": 30
  },
  {
   "metadata": {
    "jupyter": {
     "is_executing": true
    },
    "ExecuteTime": {
     "start_time": "2025-08-12T13:41:23.017023Z"
    }
   },
   "cell_type": "code",
   "source": [
    "with engine_flowsense.connect() as conn_flowsense:\n",
    "\n",
    "    for table_name in tables:\n",
    "\n",
    "        sql_query = \"SELECT * FROM {0}\".format(table_name)\n",
    "        with conn_flowsense.execute(sqlalchemy.text(sql_query)) as cursor:\n",
    "            df = pd.read_sql(sql_query, con=conn_flowsense)\n",
    "            gdf = gpd.GeoDataFrame(df, geometry=df['geometry'].apply(wkb.loads), crs=local_crs)\n",
    "\n",
    "            file_name = table_name.replace('.', '_')\n",
    "            gdf.to_file('../data/traffic_flows/{0}.geojson'.format(file_name), driver=\"GeoJSON\")"
   ],
   "id": "8b22e2f213157a4",
   "outputs": [],
   "execution_count": null
  },
  {
   "metadata": {},
   "cell_type": "code",
   "outputs": [],
   "execution_count": null,
   "source": "",
   "id": "32b351cb30f57525"
  }
 ],
 "metadata": {
  "kernelspec": {
   "display_name": "Python 3",
   "language": "python",
   "name": "python3"
  },
  "language_info": {
   "codemirror_mode": {
    "name": "ipython",
    "version": 2
   },
   "file_extension": ".py",
   "mimetype": "text/x-python",
   "name": "python",
   "nbconvert_exporter": "python",
   "pygments_lexer": "ipython2",
   "version": "2.7.6"
  }
 },
 "nbformat": 4,
 "nbformat_minor": 5
}
