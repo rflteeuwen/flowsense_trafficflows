{
 "cells": [
  {
   "cell_type": "code",
   "id": "initial_id",
   "metadata": {
    "collapsed": true
   },
   "source": [
    "import pandas as pd\n",
    "import geopandas as gpd\n",
    "from shapely import Polygon, get_coordinates\n",
    "import sqlalchemy\n",
    "import osmnx as ox\n",
    "import shapely\n",
    "import os"
   ],
   "outputs": [],
   "execution_count": null
  },
  {
   "metadata": {},
   "cell_type": "markdown",
   "source": "## settings",
   "id": "e5d3b34c5a628e15"
  },
  {
   "metadata": {},
   "cell_type": "code",
   "source": [
    "local_crs = 3006\n",
    "graph_crs = 32634\n",
    "\n",
    "city_abbr = 'sthlm'\n",
    "\n",
    "file_folder = \"directory/ISA_GPKG_20250324\"\n",
    "file_name = 'ISA.gpkg'\n",
    "layer_name = 'ISA'\n",
    "\n",
    "write_to_table = True\n",
    "write_to_file = True\n",
    "plot = True"
   ],
   "id": "1478d6dae2b46627",
   "outputs": [],
   "execution_count": null
  },
  {
   "metadata": {},
   "cell_type": "code",
   "source": [
    "if 'gbg' in city_abbr:\n",
    "    minx = 294938.44463674916\n",
    "    miny = 6376587.771166455\n",
    "    maxx = 337053.8948209431\n",
    "    maxy = 6418673.5884089535\n",
    "elif 'sthlm' in city_abbr:\n",
    "    minx = 655777.9272083798\n",
    "    miny = 6568493.165786877\n",
    "    maxx = 683485.4688108079\n",
    "    maxy = 6593666.9224746805\n",
    "\n",
    "bbox = gpd.GeoDataFrame(index=[0], crs=local_crs, geometry=[Polygon([\n",
    "    (minx, miny),\n",
    "    (minx, maxy),\n",
    "    (maxx, maxy),\n",
    "    (maxx, miny)])])"
   ],
   "id": "3e7410862a54ca27",
   "outputs": [],
   "execution_count": null
  },
  {
   "metadata": {},
   "cell_type": "markdown",
   "source": "## read network",
   "id": "c932897d24f15dec"
  },
  {
   "metadata": {},
   "cell_type": "code",
   "source": "edges = gpd.read_file(os.path.join(file_folder, file_name), layer=layer_name, bbox=bbox)",
   "id": "fd7633445a436b45",
   "outputs": [],
   "execution_count": null
  },
  {
   "metadata": {},
   "cell_type": "markdown",
   "source": "## pre-process into edges and nodes",
   "id": "ced4953d21936368"
  },
  {
   "metadata": {},
   "cell_type": "code",
   "source": [
    "edges.rename(columns={'HTHAST':'maxspeed'}, inplace=True)\n",
    "edges = edges[['RLID', 'maxspeed', 'geometry']]\n",
    "\n",
    "# set (default) values to necessary edge attributes\n",
    "edges['osmid'] = edges.index\n",
    "edges['length'] = edges.geometry.length\n",
    "edges[['u', 'v', 'key', 'highway']] = None, None, 0, 'unclassified'\n",
    "\n",
    "edges.to_crs(graph_crs, inplace=True)"
   ],
   "id": "acda54e9537df8e0",
   "outputs": [],
   "execution_count": null
  },
  {
   "metadata": {},
   "cell_type": "code",
   "source": [
    "# define nodes as start/end points of any edge\n",
    "starts = shapely.get_point(edges.geometry, 0)\n",
    "ends = shapely.get_point(edges.geometry, -1)\n",
    "\n",
    "nodes = gpd.GeoDataFrame(geometry=pd.concat([starts, ends]), crs=graph_crs)\n",
    "nodes.drop_duplicates(subset=['geometry'], inplace=True)\n",
    "nodes.reset_index(drop=True, inplace=True)\n",
    "nodes['osmid'] = nodes.index\n",
    "\n",
    "nodes.set_index('osmid', inplace=True)\n",
    "nodes['x'] = nodes.geometry.x\n",
    "nodes['y'] = nodes.geometry.y"
   ],
   "id": "e45f4d63895b8e44",
   "outputs": [],
   "execution_count": null
  },
  {
   "metadata": {},
   "cell_type": "code",
   "source": [
    "def find_to_from_nodes(row):\n",
    "    start = get_coordinates(shapely.get_point(row.geometry, 0)).tolist()[0]\n",
    "    end = get_coordinates(shapely.get_point(row.geometry, -1)).tolist()[0]\n",
    "\n",
    "    start_osmid = nodes[(nodes.geometry.x==start[0]) & (nodes.geometry.y==start[1])].index[0]\n",
    "    end_osmid = nodes[(nodes.geometry.x==end[0]) & (nodes.geometry.y==end[1])].index[0]\n",
    "    return start_osmid, end_osmid"
   ],
   "id": "a8ac312bfe2feeaf",
   "outputs": [],
   "execution_count": null
  },
  {
   "metadata": {},
   "cell_type": "code",
   "source": [
    "# define start- and end node id to every edge\n",
    "edges[['u', 'v']] = edges.apply(lambda row: find_to_from_nodes(row), axis=1, result_type='expand')"
   ],
   "id": "2b58a4dfdc6e0daf",
   "outputs": [],
   "execution_count": null
  },
  {
   "metadata": {},
   "cell_type": "code",
   "source": [
    "# add a reverse version for all edges, allowing 2-way flows\n",
    "edges_r = edges.copy()\n",
    "\n",
    "edges_r.rename(columns={'u':'u_old', 'v':'v_old'}, inplace=True)\n",
    "\n",
    "edges_r['u'] = edges_r['v_old']\n",
    "edges_r['v'] = edges_r['u_old']\n",
    "edges_r['geometry'] = edges_r['geometry'].reverse()\n",
    "\n",
    "edges_r.drop(columns={'u_old', 'v_old'}, inplace=True)\n",
    "\n",
    "edges = pd.concat([edges, edges_r])"
   ],
   "id": "24a36d556b9f775c",
   "outputs": [],
   "execution_count": null
  },
  {
   "metadata": {},
   "cell_type": "code",
   "source": [
    "def set_key_for_duplicates(df):\n",
    "    df['key'] = df.groupby(['u', 'v']).cumcount()\n",
    "    return df"
   ],
   "id": "bd086272dfa0caed",
   "outputs": [],
   "execution_count": null
  },
  {
   "metadata": {},
   "cell_type": "code",
   "source": [
    "# in case of multiple edges between the same pair of nodes: keep index unique\n",
    "edges = set_key_for_duplicates(edges)\n",
    "edges.set_index(['u', 'v', 'key'], inplace=True)"
   ],
   "id": "631a12aca40ff3ed",
   "outputs": [],
   "execution_count": null
  },
  {
   "metadata": {},
   "cell_type": "code",
   "source": [
    "# mark curved lines with unique osmid, they need to be maintained as is, others can be simplified\n",
    "edges['n_coords'] = edges.geometry.count_coordinates()\n",
    "edges['straight_line'] = edges.apply(lambda x: x.osmid if x.n_coords>2 else -1, axis=1)\n",
    "edges.drop(columns=['n_coords'], inplace=True)"
   ],
   "id": "e98cbb804970f30d",
   "outputs": [],
   "execution_count": null
  },
  {
   "metadata": {},
   "cell_type": "code",
   "source": [
    "# create and simplify the graph\n",
    "G = ox.graph_from_gdfs(nodes, edges)\n",
    "G = ox.simplify_graph(G, edge_attrs_differ=['straight_line'])\n",
    "\n",
    "# get final nodes and edges gdfs after simplifying\n",
    "nodes, edges = ox.graph_to_gdfs(G, nodes=True, edges=True)"
   ],
   "id": "b78cdac763c34aad",
   "outputs": [],
   "execution_count": null
  },
  {
   "metadata": {},
   "cell_type": "code",
   "source": [
    "if plot:\n",
    "    ox.plot_graph(G)"
   ],
   "id": "6a60acb81255658",
   "outputs": [],
   "execution_count": null
  },
  {
   "metadata": {},
   "cell_type": "markdown",
   "source": "## write to table",
   "id": "150b1bd333924a4a"
  },
  {
   "metadata": {},
   "cell_type": "code",
   "source": [
    "nodes.reset_index(drop=False, inplace=True)\n",
    "nodes.to_crs(local_crs, inplace=True)"
   ],
   "id": "ec3dea4e7ee9c9e5",
   "outputs": [],
   "execution_count": null
  },
  {
   "metadata": {},
   "cell_type": "code",
   "source": [
    "edges.reset_index(drop=False, inplace=True)\n",
    "edges.to_crs(local_crs, inplace=True)"
   ],
   "id": "f87a23b7fdef37d8",
   "outputs": [],
   "execution_count": null
  },
  {
   "metadata": {},
   "cell_type": "code",
   "source": [
    "# write edges and nodes to database\n",
    "if write_to_table:\n",
    "\n",
    "    url_flowsense = sqlalchemy.URL.create(\n",
    "        \"postgresql+psycopg\", port=5432,\n",
    "        host=\"host\", database=\"database\", username=\"username\")\n",
    "    engine_flowsense = sqlalchemy.create_engine(url_flowsense)\n",
    "\n",
    "    nodes.to_postgis(\n",
    "        name='trafikverket_nodes_{}'.format(city_abbr),\n",
    "        con=engine_flowsense,\n",
    "        schema='road_network',\n",
    "        if_exists='replace',\n",
    "        index=False)\n",
    "\n",
    "    edges.to_postgis(\n",
    "        name='trafikverket_edges_{}'.format(city_abbr),\n",
    "        con=engine_flowsense,\n",
    "        schema='road_network',\n",
    "        if_exists='replace',\n",
    "        index=False)"
   ],
   "id": "7aabae38e11ba2b0",
   "outputs": [],
   "execution_count": null
  }
 ],
 "metadata": {
  "kernelspec": {
   "display_name": "Python 3",
   "language": "python",
   "name": "python3"
  },
  "language_info": {
   "codemirror_mode": {
    "name": "ipython",
    "version": 2
   },
   "file_extension": ".py",
   "mimetype": "text/x-python",
   "name": "python",
   "nbconvert_exporter": "python",
   "pygments_lexer": "ipython2",
   "version": "2.7.6"
  }
 },
 "nbformat": 4,
 "nbformat_minor": 5
}
