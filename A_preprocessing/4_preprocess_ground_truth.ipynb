{
 "cells": [
  {
   "metadata": {
    "collapsed": true
   },
   "cell_type": "code",
   "source": [
    "import numpy as np\n",
    "import pandas as pd\n",
    "import geopandas as gpd\n",
    "import sqlalchemy\n",
    "import os\n",
    "import matplotlib.pyplot as plt\n",
    "import matplotlib.patches as mpatches"
   ],
   "id": "da5eafe06808be9c",
   "outputs": [],
   "execution_count": null
  },
  {
   "metadata": {},
   "cell_type": "markdown",
   "source": "## settings",
   "id": "eba09c1ded917495"
  },
  {
   "metadata": {},
   "cell_type": "code",
   "source": [
    "data_folder = \"mydirectory\"\n",
    "local_crs = 3006\n",
    "plot = True\n",
    "write_to_table = True"
   ],
   "id": "16e28ffb1bc4a4b1",
   "outputs": [],
   "execution_count": null
  },
  {
   "metadata": {},
   "cell_type": "markdown",
   "source": "## Stockholm 2014 data",
   "id": "b30d52d581af8902"
  },
  {
   "metadata": {},
   "cell_type": "code",
   "source": [
    "path = os.path.join(data_folder, 'vehicles', 'STHLM', 'Trafikflode_Motorfordon.gpkg')\n",
    "gdf = gpd.read_file(path, layer='Trafikflode_Motorfordon').to_crs(local_crs)\n",
    "carflows_sthlm_2014 = gdf[gdf.Flödeskarta__version==2014]\n",
    "\n",
    "if plot:\n",
    "    carflows_sthlm_2014.plot(column='Totalflöde_alla_riktningar', cmap='Reds', categorical=True)"
   ],
   "id": "5a13fb0b143f43ca",
   "outputs": [],
   "execution_count": null
  },
  {
   "metadata": {},
   "cell_type": "code",
   "source": "main_col = 'Totalflöde_alla_riktningar'",
   "id": "c9cb957a65f53e19",
   "outputs": [],
   "execution_count": null
  },
  {
   "metadata": {},
   "cell_type": "code",
   "source": "x = carflows_sthlm_2014[main_col]",
   "id": "989e90582570bcec",
   "outputs": [],
   "execution_count": null
  },
  {
   "metadata": {},
   "cell_type": "code",
   "source": [
    "plt.hist(x, bins=50)\n",
    "plt.show()"
   ],
   "id": "6ce9ae8c5eb300dc",
   "outputs": [],
   "execution_count": null
  },
  {
   "metadata": {},
   "cell_type": "code",
   "source": [
    "if plot:\n",
    "    plt.hist(x, bins=10**np.linspace(1, 6, 50))\n",
    "    plt.xscale('log')\n",
    "    plt.show()"
   ],
   "id": "b7edf54c61086ef7",
   "outputs": [],
   "execution_count": null
  },
  {
   "metadata": {},
   "cell_type": "code",
   "source": [
    "values = np.linspace(0, 500, 11)\n",
    "for value in values:\n",
    "    print('{}% of roads have ground truth flow value of {}'.format(round(100*(len(carflows_sthlm_2014[carflows_sthlm_2014[main_col]==value]) / len(carflows_sthlm_2014)), 2), value))"
   ],
   "id": "9c7f0bfc9d53ee13",
   "outputs": [],
   "execution_count": null
  },
  {
   "metadata": {},
   "cell_type": "code",
   "source": [
    "if plot:\n",
    "    fig, axs = plt.subplots(nrows=1, ncols=1, figsize=(10,10))\n",
    "\n",
    "    carflows_sthlm_2014[~(carflows_sthlm_2014[main_col].isin([50, 200, 300]))].plot(ax=axs, color='grey', linewidth=0.5)\n",
    "    carflows_sthlm_2014[(carflows_sthlm_2014[main_col].isin([200, 300]))].plot(ax=axs, color='red', linewidth=0.5)\n",
    "    carflows_sthlm_2014[(carflows_sthlm_2014[main_col].isin([50]))].plot(ax=axs, color='yellow', linewidth=0.5)\n",
    "\n",
    "    axs.axis('off')\n",
    "\n",
    "    handles = [\n",
    "        mpatches.Patch(color='red', alpha=0.3, label='exactly 200 or 300 vehicles/hour'),\n",
    "        mpatches.Patch(color='yellow', alpha=0.3, label='exactly 50 vehicles/hour'),\n",
    "        mpatches.Patch(color='grey', alpha=0.3, label='Any other value')]\n",
    "    axs.legend(handles=handles, loc='upper right')\n",
    "\n",
    "    plt.show()"
   ],
   "id": "e6f92270f8bb704a",
   "outputs": [],
   "execution_count": null
  },
  {
   "metadata": {},
   "cell_type": "code",
   "source": "carflows_sthlm_2014 = carflows_sthlm_2014[~carflows_sthlm_2014[main_col].isin([200,300])].copy()",
   "id": "b8bc2bedf4e1f6bc",
   "outputs": [],
   "execution_count": null
  },
  {
   "metadata": {},
   "cell_type": "code",
   "source": [
    "x = carflows_sthlm_2014[main_col]\n",
    "\n",
    "if plot:\n",
    "    plt.hist(x, bins=10**np.linspace(1, 6, 50))\n",
    "    plt.xscale('log')\n",
    "    plt.show()"
   ],
   "id": "8acf93de2f4dcba9",
   "outputs": [],
   "execution_count": null
  },
  {
   "metadata": {},
   "cell_type": "code",
   "source": [
    "x = carflows_sthlm_2014[carflows_sthlm_2014[main_col]<300][main_col]\n",
    "\n",
    "if plot:\n",
    "    fig, axs = plt.subplots(nrows=1, ncols=1, figsize=(20,5))\n",
    "    plt.hist(x, bins=np.linspace(50, 500, 451))\n",
    "    plt.show()"
   ],
   "id": "d8cad565cbcf1e8f",
   "outputs": [],
   "execution_count": null
  },
  {
   "metadata": {},
   "cell_type": "code",
   "source": "carflows_sthlm_2014 = carflows_sthlm_2014[~carflows_sthlm_2014.Totalflöde_alla_riktningar.isin([50])].copy()",
   "id": "3e7a67f8109d252e",
   "outputs": [],
   "execution_count": null
  },
  {
   "metadata": {},
   "cell_type": "code",
   "source": "carflows_sthlm_2014[main_col+'_normalized'] = carflows_sthlm_2014[main_col]/carflows_sthlm_2014[main_col].max()",
   "id": "4028dd77aceb8a2c",
   "outputs": [],
   "execution_count": null
  },
  {
   "metadata": {},
   "cell_type": "markdown",
   "source": "## Stockholm 2024 data",
   "id": "ca2705ad512176f7"
  },
  {
   "metadata": {},
   "cell_type": "code",
   "source": [
    "path = os.path.join(data_folder, 'vehicles', 'STHLM', 'Arstrafik.gpkg')\n",
    "gdf = gpd.read_file(path, layer='Arstrafik').to_crs(local_crs)\n",
    "carflows_sthlm_2024 = gdf[gdf.Datum_för_start_av_perioden==20240101]\n",
    "\n",
    "carflows_sthlm_2024 = carflows_sthlm_2024[carflows_sthlm_2024.MAIN_ATTRIBUTE_DESCRIPTION.str.contains('Totalt')]\n",
    "carflows_sthlm_2024.drop_duplicates('geometry', inplace=True)\n",
    "\n",
    "main_col = 'Trafikflöde__fordon_dygn__alla_fordon'\n",
    "\n",
    "if plot:\n",
    "    carflows_sthlm_2024.plot(column=main_col, cmap='Reds', categorical=True)"
   ],
   "id": "f7020f8508b0c947",
   "outputs": [],
   "execution_count": null
  },
  {
   "metadata": {},
   "cell_type": "code",
   "source": "x = carflows_sthlm_2024[main_col]",
   "id": "9866057dd83790d6",
   "outputs": [],
   "execution_count": null
  },
  {
   "metadata": {},
   "cell_type": "code",
   "source": [
    "if plot:\n",
    "    plt.hist(x, bins=50)\n",
    "    plt.show()"
   ],
   "id": "ed122ff79a121ae8",
   "outputs": [],
   "execution_count": null
  },
  {
   "metadata": {},
   "cell_type": "code",
   "source": [
    "if plot:\n",
    "    plt.hist(x, bins=10**np.linspace(1, 6, 50))\n",
    "    plt.xscale('log')\n",
    "    plt.show()"
   ],
   "id": "b183ea8deb696853",
   "outputs": [],
   "execution_count": null
  },
  {
   "metadata": {},
   "cell_type": "code",
   "source": "carflows_sthlm_2024[main_col+'_normalized'] = carflows_sthlm_2024[main_col]/carflows_sthlm_2024[main_col].max()",
   "id": "44c0a473e10f974",
   "outputs": [],
   "execution_count": null
  },
  {
   "metadata": {},
   "cell_type": "markdown",
   "source": "## Gothenburg 2023/2024 data local roads",
   "id": "de31282d5a1c6f70"
  },
  {
   "metadata": {},
   "cell_type": "code",
   "source": [
    "path = os.path.join(data_folder, 'vehicles', 'GBG', 'Trafikmangdskatalogen.xlsx')\n",
    "df = pd.read_excel(path)\n",
    "df = df[~df['Mätplats-id'].isin([158,418])]   # insensible coordinates\n",
    "gdf = gpd.GeoDataFrame(df, geometry=gpd.points_from_xy(df['Mätplatskoordinat SWEREF991200 Long'], df['Mätplatskoordinat SWEREF991200 Lat']), crs=local_crs)\n",
    "carflows_gbg_local_2023 = gdf[gdf['År']==2023].copy()\n",
    "carflows_gbg_local_2024 = gdf[gdf['År']==2024].copy()\n",
    "\n",
    "carflows_gbg_local_2023 = carflows_gbg_local_2023[carflows_gbg_local_2023.Mätsnittsnamn.isnull()]\n",
    "carflows_gbg_local_2023.drop_duplicates('geometry', inplace=True)\n",
    "carflows_gbg_local_2024 = carflows_gbg_local_2024[carflows_gbg_local_2024.Mätsnittsnamn.isnull()]\n",
    "carflows_gbg_local_2024.drop_duplicates('geometry', inplace=True)\n",
    "\n",
    "main_col = 'ÅDT'\n",
    "\n",
    "if plot:\n",
    "    fig, axs = plt.subplots(1, 2)\n",
    "    carflows_gbg_local_2023.plot(ax=axs[0], column=main_col, cmap='Reds', categorical=True)\n",
    "    carflows_gbg_local_2024.plot(ax=axs[1], column=main_col, cmap='Reds', categorical=True)\n",
    "    plt.show()"
   ],
   "id": "81e924b808071773",
   "outputs": [],
   "execution_count": null
  },
  {
   "metadata": {},
   "cell_type": "code",
   "source": [
    "x1 = carflows_gbg_local_2023[main_col]\n",
    "x2 = carflows_gbg_local_2024[main_col]"
   ],
   "id": "39a4703ed10f5bcc",
   "outputs": [],
   "execution_count": null
  },
  {
   "metadata": {},
   "cell_type": "code",
   "source": [
    "if plot:\n",
    "    plt.hist(x1, bins=50)\n",
    "    plt.hist(x2, bins=50)"
   ],
   "id": "9b644a747c19916d",
   "outputs": [],
   "execution_count": null
  },
  {
   "metadata": {},
   "cell_type": "code",
   "source": [
    "if plot:\n",
    "    plt.hist(x1, bins=10**np.linspace(1, 6, 50))\n",
    "    plt.hist(x2, bins=10**np.linspace(1, 6, 50))\n",
    "    plt.xscale('log')"
   ],
   "id": "c4d51110861acdb7",
   "outputs": [],
   "execution_count": null
  },
  {
   "metadata": {},
   "cell_type": "code",
   "source": [
    "carflows_gbg_local_2023[main_col+'_normalized'] = carflows_gbg_local_2023[main_col]/carflows_gbg_local_2023[main_col].max()\n",
    "carflows_gbg_local_2024[main_col+'_normalized'] = carflows_gbg_local_2024[main_col]/carflows_gbg_local_2024[main_col].max()"
   ],
   "id": "517afc6e4b9b6199",
   "outputs": [],
   "execution_count": null
  },
  {
   "metadata": {},
   "cell_type": "markdown",
   "source": "## Gothenburg 2024 data highways",
   "id": "cb0820a0611620b3"
  },
  {
   "metadata": {},
   "cell_type": "code",
   "source": [
    "path = os.path.join(data_folder, 'vehicles', 'GBG', 'traffik_data_GBG_20241001_Geopackage_358047', 'traffik_data_GBG_20241001_358047.gpkg')\n",
    "gdf = gpd.read_file(path, layer='TRAFIK_DK_O_105_Trafik').to_crs(local_crs)\n",
    "\n",
    "carflows_gbg_highways_2023 = gdf[gdf['Matarsperiod']==202301].copy()\n",
    "carflows_gbg_highways_2024 = gdf[gdf['Matarsperiod']==202401].copy()\n",
    "\n",
    "if plot:\n",
    "    fig, axs = plt.subplots(1, 2)\n",
    "    carflows_gbg_highways_2023.plot(ax=axs[0], column='Adt_samtliga_fordon', cmap='Reds', categorical=True)\n",
    "    carflows_gbg_highways_2024.plot(ax=axs[1], column='Adt_samtliga_fordon', cmap='Reds', categorical=True)\n",
    "    plt.show()"
   ],
   "id": "66dc138a812bbad9",
   "outputs": [],
   "execution_count": null
  },
  {
   "metadata": {},
   "cell_type": "code",
   "source": "main_col = 'Adt_samtliga_fordon'",
   "id": "2acea43d4afbd14c",
   "outputs": [],
   "execution_count": null
  },
  {
   "metadata": {},
   "cell_type": "code",
   "source": [
    "x1 = carflows_gbg_highways_2023[main_col]\n",
    "x2 = carflows_gbg_highways_2024[main_col]"
   ],
   "id": "c913a3eb05d988b4",
   "outputs": [],
   "execution_count": null
  },
  {
   "metadata": {},
   "cell_type": "code",
   "source": [
    "if plot:\n",
    "    plt.hist(x1, bins=50)\n",
    "    plt.hist(x2, bins=50)"
   ],
   "id": "9129c15b323391d7",
   "outputs": [],
   "execution_count": null
  },
  {
   "metadata": {},
   "cell_type": "code",
   "source": [
    "if plot:\n",
    "    plt.hist(x1, bins=10**np.linspace(1, 6, 50))\n",
    "    plt.hist(x2, bins=10**np.linspace(1, 6, 50))\n",
    "    plt.xscale('log')"
   ],
   "id": "cb2406bd5da7973e",
   "outputs": [],
   "execution_count": null
  },
  {
   "metadata": {},
   "cell_type": "code",
   "source": [
    "carflows_gbg_highways_2023[main_col+'_normalized'] = carflows_gbg_highways_2023[main_col]/carflows_gbg_highways_2023[main_col].max()\n",
    "carflows_gbg_highways_2024[main_col+'_normalized'] = carflows_gbg_highways_2024[main_col]/carflows_gbg_highways_2024[main_col].max()"
   ],
   "id": "4fb4aecfa2b08d4",
   "outputs": [],
   "execution_count": null
  },
  {
   "metadata": {},
   "cell_type": "markdown",
   "source": "## write data to table",
   "id": "637a5a720c056e55"
  },
  {
   "metadata": {},
   "cell_type": "code",
   "source": [
    "carflows_sthlm_2014.columns = carflows_sthlm_2014.columns.str.lower()\n",
    "carflows_sthlm_2024.columns = carflows_sthlm_2024.columns.str.lower()\n",
    "carflows_gbg_local_2023.columns = carflows_gbg_local_2023.columns.str.lower()\n",
    "carflows_gbg_local_2024.columns = carflows_gbg_local_2024.columns.str.lower()\n",
    "carflows_gbg_highways_2023.columns = carflows_gbg_highways_2023.columns.str.lower()\n",
    "carflows_gbg_highways_2024.columns = carflows_gbg_highways_2024.columns.str.lower()"
   ],
   "id": "487809e81230cbd7",
   "outputs": [],
   "execution_count": null
  },
  {
   "metadata": {},
   "cell_type": "code",
   "source": [
    "# write to database\n",
    "if write_to_table:\n",
    "\n",
    "    url_flowsense = sqlalchemy.URL.create(\n",
    "        \"postgresql+psycopg\", port=5432,\n",
    "        host=\"host\", database=\"database\", username=\"username\")\n",
    "    engine_flowsense = sqlalchemy.create_engine(url_flowsense)\n",
    "\n",
    "    carflows_sthlm_2014.to_postgis(\n",
    "        name='flows_cars_sthlm_2014',\n",
    "        con=engine_flowsense,\n",
    "        schema='ground_truth',\n",
    "        if_exists='replace',\n",
    "        index=False)\n",
    "\n",
    "    carflows_sthlm_2024.to_postgis(\n",
    "        name='flows_cars_sthlm_2024',\n",
    "        con=engine_flowsense,\n",
    "        schema='ground_truth',\n",
    "        if_exists='replace',\n",
    "        index=False)\n",
    "\n",
    "    carflows_gbg_local_2023.to_postgis(\n",
    "        name='flows_cars_gbg_local_2023',\n",
    "        con=engine_flowsense,\n",
    "        schema='ground_truth',\n",
    "        if_exists='replace',\n",
    "        index=False)\n",
    "\n",
    "    carflows_gbg_local_2024.to_postgis(\n",
    "        name='flows_cars_gbg_local_2024',\n",
    "        con=engine_flowsense,\n",
    "        schema='ground_truth',\n",
    "        if_exists='replace',\n",
    "        index=False)\n",
    "\n",
    "    carflows_gbg_highways_2023.to_postgis(\n",
    "        name='flows_cars_gbg_highway_2023',\n",
    "        con=engine_flowsense,\n",
    "        schema='ground_truth',\n",
    "        if_exists='replace',\n",
    "        index=False)\n",
    "\n",
    "    carflows_gbg_highways_2024.to_postgis(\n",
    "        name='flows_cars_gbg_highway_2024',\n",
    "        con=engine_flowsense,\n",
    "        schema='ground_truth',\n",
    "        if_exists='replace',\n",
    "        index=False)"
   ],
   "id": "13b27f8455098d85",
   "outputs": [],
   "execution_count": null
  },
  {
   "metadata": {
    "jupyter": {
     "is_executing": true
    }
   },
   "cell_type": "code",
   "source": "",
   "id": "a9718579490b1d9a",
   "outputs": [],
   "execution_count": null
  },
  {
   "metadata": {},
   "cell_type": "code",
   "source": "",
   "id": "cde4bc2ba15be325",
   "outputs": [],
   "execution_count": null
  }
 ],
 "metadata": {
  "kernelspec": {
   "display_name": "Python 3",
   "language": "python",
   "name": "python3"
  },
  "language_info": {
   "codemirror_mode": {
    "name": "ipython",
    "version": 2
   },
   "file_extension": ".py",
   "mimetype": "text/x-python",
   "name": "python",
   "nbconvert_exporter": "python",
   "pygments_lexer": "ipython2",
   "version": "2.7.6"
  }
 },
 "nbformat": 4,
 "nbformat_minor": 5
}
